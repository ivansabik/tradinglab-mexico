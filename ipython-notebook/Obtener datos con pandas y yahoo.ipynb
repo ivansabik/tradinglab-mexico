{
 "metadata": {
  "name": "",
  "signature": "sha256:04dfcb6a4606d817554cff04e2be765996311a382ff86871821068576c15ab79"
 },
 "nbformat": 3,
 "nbformat_minor": 0,
 "worksheets": [
  {
   "cells": [
    {
     "cell_type": "code",
     "collapsed": false,
     "input": [
      "import datetime\n",
      "import pandas as pd\n",
      "import pandas.io.data\n",
      "\n",
      "empresas = pd.read_csv('empresas_bmv.csv')\n",
      "empresas = list(empresas['clave_yahoo'].values)\n",
      "\n",
      "print empresas"
     ],
     "language": "python",
     "metadata": {},
     "outputs": [
      {
       "output_type": "stream",
       "stream": "stdout",
       "text": [
        "['AC.MX', 'ACCELSAB.MX', 'ACTINVRB.MX', 'AEROMEX.MX', 'AHMSA.MX', 'ALFAA.MX', 'ALSEA.MX', 'AMXA.MX', 'ARA.MX', 'ARISTOSA.MX', 'ASURB.MX', 'AUTLANB.MX', 'AXTELCPO.MX', 'AZTECACPO.MX', 'BACHOCOB.MX', 'BAFARB.MX', 'BBVA.MX', 'BEVIDESB.MX', 'BIMBOA.MX', 'BOLSAA.MX', 'C.MX', 'CABLECPO.MX', 'CEMEXCPO.MX', 'CERAMICB.MX', 'CHDRAUIB.MX', 'CIDMEGA.MX', 'CIEB.MX', 'CMOCTEZ.MX', 'CMRB.MX', 'COLLADO.MX', 'COMERCIUBC.MX', 'CONVERA.MX', 'CULTIBAB.MX', 'CYDSASAA.MX', 'DINEB.MX', 'EDOARDOB.MX', 'ELEKTRA.MX', 'FEMSAUBD.MX', 'FINAMEXO.MX', 'FINDEP.MX', 'FRAGUAB.MX', 'FRES.MX', 'GAPB.MX', 'GBMO.MX', 'GCARSOA1.MX', 'GCC.MX', 'GENSEG.MX', 'GENTERA.MX', 'GEOB.MX', 'GFAMSAA.MX', 'GFINBURO.MX', 'GFINTERO.MX', 'GFMULTIO.MX', 'GFNORTEO.MX', 'GFREGIOO.MX', 'GIGANTE.MX', 'GISSAA.MX', 'GMACMAB.MX', 'GMD.MX', 'GMEXICOB.MX', 'GMODELOC.MX', 'GNP.MX', 'GOMO.MX', 'GPH1.MX', 'GPROFUT.MX', 'GRUMAB.MX', 'NONEXISTUM.NA', 'NONEXISTUM.NA', 'HERDEZ.MX', 'HILASALA.MX', 'HOGARB.MX', 'HOMEX.MX', 'IASASA.MX', 'ICA.MX', 'ICHB.MX', 'IDEALB-1.MX', 'NONEXISTUM.NA', 'INCARSOB-1.MX', 'INVEXA.MX', 'KIMBERA.MX', 'KOFL.MX', 'KUOB.MX', 'LABB.MX', 'NONEXISTUM.NA', 'LAMOSA.MX', 'LASEG.MX', 'LIVEPOLC-1.MX', 'MASECAB.MX', 'MAXCOMCPO.MX', 'MEDICAB.MX', 'MEGACPO.MX', 'MEXCHEM.MX', 'NONEXISTUM.NA', 'MINSAB.MX', 'MONEXB.MX', 'OHLMEX.MX', 'OMAB.MX', 'PAPPEL.MX', 'PASAB.MX', 'NONEXISTUM.NA', 'PINFRA.MX', 'POCHTECB.MX', 'POSADASA.MX', 'PROCORPB.MX', 'NONEXISTUM.NA', 'QBINDUSA.MX', 'NONEXISTUM.NA', 'QUMMAB.MX', 'RCENTROA.MX', 'REALTURA.MX', 'SAB.MX', 'SANMEXB.MX', 'SANLUISA.MX', 'SANMEXB.MX', 'SAREB.MX', 'NONEXISTUM.NA', 'SIMECB.MX', 'SORIANAB.MX', 'NONEXISTUM.NA', 'TEAKCPO.MX', 'TEKCHEMA.MX', 'NONEXISTUM.NA', 'TLEVISACPO.MX', 'TMMA.MX', 'TS.MX', 'URBI.MX', 'VALUEGFO.MX', 'VASCONI.MX', 'NONEXISTUM.NA', 'VITROA.MX', 'NONEXISTUM.NA', 'WALMEXV.MX']\n"
       ]
      }
     ],
     "prompt_number": 4
    },
    {
     "cell_type": "code",
     "collapsed": false,
     "input": [
      "for empresa in empresas:\n",
      "    if(empresa != 'NONEXISTUM.NA'):\n",
      "        datos = pd.io.data.get_data_yahoo(empresa, \n",
      "                                         start=datetime.datetime(2000, 1, 1), \n",
      "                                         end=datetime.datetime(2015, 1, 1))\n",
      "        print empresa\n",
      "        print datos.head()"
     ],
     "language": "python",
     "metadata": {},
     "outputs": [
      {
       "output_type": "stream",
       "stream": "stdout",
       "text": [
        "AC.MX\n",
        "             Open   High    Low  Close  Volume  Adj Close\n",
        "Date                                                     \n",
        "2002-11-20  16.00  16.00  16.00  16.00       0       7.57\n",
        "2002-12-12  15.99  15.99  15.99  15.99       0       7.56\n",
        "2002-12-25  19.20  19.20  19.20  19.20       0       9.08\n",
        "2003-01-01  20.00  20.00  20.00  20.00       0       9.46\n",
        "2003-01-15  17.30  17.30  17.01  17.01   56300       8.04\n",
        "ACCELSAB.MX"
       ]
      },
      {
       "output_type": "stream",
       "stream": "stdout",
       "text": [
        "\n",
        "            Open  High   Low  Close  Volume  Adj Close\n",
        "Date                                                  \n",
        "2000-01-03  1.06  1.06  1.02   1.02       0       4.08\n",
        "2000-01-04  0.99  0.99  0.99   0.99   12500       3.96\n",
        "2000-01-05  0.95  1.01  0.95   1.01    4000       4.04\n",
        "2000-01-06  1.00  1.00  0.95   0.95       0       3.80\n",
        "2000-01-07  1.00  1.00  0.96   0.96       0       3.84\n",
        "ACTINVRB.MX"
       ]
      },
      {
       "output_type": "stream",
       "stream": "stdout",
       "text": [
        "\n",
        "             Open   High    Low  Close   Volume  Adj Close\n",
        "Date                                                      \n",
        "2010-05-06  10.96  11.27   9.72  10.75  5244700      10.35\n",
        "2010-05-07  10.75  10.80  10.75  10.77  1054000      10.37\n",
        "2010-05-10  10.80  11.25  10.75  10.90   407900      10.50\n",
        "2010-05-11  10.75  10.90  10.75  10.85   222200      10.45\n",
        "2010-05-12  10.90  11.00  10.75  10.90  1502000      10.50\n",
        "AEROMEX.MX"
       ]
      },
      {
       "output_type": "stream",
       "stream": "stdout",
       "text": [
        "\n",
        "             Open   High    Low  Close  Volume  Adj Close\n",
        "Date                                                     \n",
        "2011-04-29  30.60  30.65  30.30  30.65  677500      30.65\n",
        "2011-05-02  30.30  30.60  30.21  30.30  198000      30.30\n",
        "2011-05-03  30.35  30.45  30.20  30.35  917300      30.35\n",
        "2011-05-04  30.30  30.50  30.00  30.30  553700      30.30\n",
        "2011-05-05  30.12  30.30  29.80  30.12  583100      30.12\n",
        "AHMSA.MX"
       ]
      },
      {
       "output_type": "stream",
       "stream": "stdout",
       "text": [
        "\n",
        "            Open  High   Low  Close  Volume  Adj Close\n",
        "Date                                                  \n",
        "2009-02-23  2.52  2.52  2.52   2.52       0       2.52\n",
        "2009-02-24  2.52  2.52  2.52   2.52       0       2.52\n",
        "2009-02-25  2.52  2.52  2.52   2.52       0       2.52\n",
        "2009-02-26  2.52  2.52  2.52   2.52       0       2.52\n",
        "2009-02-27  2.52  2.52  2.52   2.52       0       2.52\n",
        "ALFAA.MX"
       ]
      },
      {
       "output_type": "stream",
       "stream": "stdout",
       "text": [
        "\n",
        "            Open  High   Low  Close    Volume  Adj Close\n",
        "Date                                                    \n",
        "2000-01-03  44.4  46.0  42.5   43.8   7130000       4.12\n",
        "2000-01-04  42.8  42.8  41.0   41.0  11890000       3.85\n",
        "2000-01-05  40.8  42.2  39.3   41.8   8420000       3.93\n",
        "2000-01-06  41.7  41.7  40.0   40.0  13680000       3.76\n",
        "2000-01-07  40.7  44.0  40.7   44.0  13990000       4.14\n",
        "ALSEA.MX"
       ]
      },
      {
       "output_type": "stream",
       "stream": "stdout",
       "text": [
        "\n",
        "            Open  High   Low  Close  Volume  Adj Close\n",
        "Date                                                  \n",
        "2000-01-18  11.8  11.9  11.8   11.9    8200       2.71\n",
        "2000-01-19  11.9  11.9  11.9   11.9       0       2.71\n",
        "2000-01-20  11.9  11.9  11.9   11.9       0       2.71\n",
        "2000-01-21  11.9  11.9  11.9   11.9       0       2.71\n",
        "2000-01-24  11.9  11.9  11.9   11.9       0       2.71\n",
        "AMXA.MX"
       ]
      },
      {
       "output_type": "stream",
       "stream": "stdout",
       "text": [
        "\n",
        "             Open   High    Low  Close  Volume  Adj Close\n",
        "Date                                                     \n",
        "2000-01-03  80.85  80.85  80.10   80.1   67800      11.35\n",
        "2000-01-04  76.95  76.95  74.40   74.4  111600      10.54\n",
        "2000-01-05  73.05  74.40  73.05   74.4  264000      10.54\n",
        "2000-01-06  74.10  75.00  74.10   75.0   48000      10.63\n",
        "2000-01-07  75.30  75.30  75.30   75.3    7800      10.67\n",
        "ARA.MX"
       ]
      },
      {
       "output_type": "stream",
       "stream": "stdout",
       "text": [
        "\n",
        "             Open   High    Low  Close   Volume  Adj Close\n",
        "Date                                                      \n",
        "2000-01-03  15.66  15.80  15.40  15.56   256000       3.79\n",
        "2000-01-04  15.38  15.38  14.76  14.76   716000       3.60\n",
        "2000-01-05  14.50  14.90  14.50  14.88   468000       3.63\n",
        "2000-01-06  14.88  14.98  14.80  14.90  1432000       3.63\n",
        "2000-01-07  15.00  15.80  15.00  15.72  5420000       3.83\n",
        "ARISTOSA.MX"
       ]
      },
      {
       "output_type": "stream",
       "stream": "stdout",
       "text": [
        "\n",
        "            Open  High  Low  Close  Volume  Adj Close\n",
        "Date                                                 \n",
        "2009-02-23    25    25   25     25       0      12.35\n",
        "2009-02-24    25    25   25     25       0      12.35\n",
        "2009-02-25    25    25   25     25       0      12.35\n",
        "2009-02-26    25    25   25     25       0      12.35\n",
        "2009-02-27    25    25   25     25       0      12.35\n",
        "ASURB.MX"
       ]
      },
      {
       "output_type": "stream",
       "stream": "stdout",
       "text": [
        "\n",
        "             Open   High   Low  Close  Volume  Adj Close\n",
        "Date                                                    \n",
        "2000-10-04  14.00  14.00  12.8   12.8       0      11.09\n",
        "2000-10-05  12.80  12.80  12.8   12.8       0      11.09\n",
        "2000-10-06  13.98  13.98  12.5   12.5       0      10.83\n",
        "2000-10-09  12.50  12.50  12.5   12.5       0      10.83\n",
        "2000-10-13  13.10  13.10  12.2   12.2       0      10.57\n",
        "AUTLANB.MX"
       ]
      },
      {
       "output_type": "stream",
       "stream": "stdout",
       "text": [
        "\n",
        "            Open  High   Low  Close  Volume  Adj Close\n",
        "Date                                                  \n",
        "2000-01-04  1.96  1.96  1.40   1.40       0       1.28\n",
        "2000-01-05  1.94  1.94  1.40   1.40       0       1.28\n",
        "2000-01-13  1.90  1.90  1.35   1.35       0       1.23\n",
        "2000-01-18  1.88  1.88  1.50   1.50       0       1.37\n",
        "2000-01-19  1.88  1.88  1.60   1.60       0       1.46\n",
        "AXTELCPO.MX"
       ]
      },
      {
       "output_type": "stream",
       "stream": "stdout",
       "text": [
        "\n",
        "             Open   High    Low  Close    Volume  Adj Close\n",
        "Date                                                       \n",
        "2005-12-07  24.87  25.14  24.81  24.99  44378100       8.33\n",
        "2005-12-08  25.02  25.50  25.02  25.47  24352200       8.49\n",
        "2005-12-09  25.50  25.89  25.50  25.77  19277100       8.59\n",
        "2005-12-12  25.77  25.77  25.77  25.77         0       8.59\n",
        "2005-12-13  25.80  25.80  25.59  25.71  19323000       8.57\n",
        "AZTECACPO.MX"
       ]
      },
      {
       "output_type": "stream",
       "stream": "stdout",
       "text": [
        "\n",
        "            Open  High   Low  Close  Volume  Adj Close\n",
        "Date                                                  \n",
        "2000-03-13  8.94  8.94  8.94   8.94       0       8.94\n",
        "2000-03-21  8.54  8.54  8.54   8.54       0       8.54\n",
        "2000-04-20  6.48  6.48  6.48   6.48       0       6.48\n",
        "2000-04-21  6.48  6.48  6.48   6.48       0       6.48\n",
        "2000-05-01  6.50  6.50  6.50   6.50       0       6.50\n",
        "BACHOCOB.MX"
       ]
      },
      {
       "output_type": "stream",
       "stream": "stdout",
       "text": [
        "\n",
        "            Open  High   Low  Close  Volume  Adj Close\n",
        "Date                                                  \n",
        "2000-01-03  17.5  17.5  17.0   17.0       0       7.54\n",
        "2000-01-04  17.0  17.0  15.3   15.3   22000       6.79\n",
        "2000-01-05  15.3  15.6  15.0   15.5   92000       6.88\n",
        "2000-01-06  15.5  15.5  15.5   15.5   20000       6.88\n",
        "2000-01-07  15.0  15.0  15.0   15.0   20000       6.65\n",
        "BAFARB.MX"
       ]
      },
      {
       "output_type": "stream",
       "stream": "stdout",
       "text": [
        "\n",
        "            Open  High    Low  Close   Volume  Adj Close\n",
        "Date                                                    \n",
        "2007-12-24  14.4  14.4  14.40   14.4  6995600      13.58\n",
        "2008-01-03  14.4  14.4  14.40   14.4   138600      13.58\n",
        "2008-01-08  14.4  14.4  14.35   14.4     1700      13.58\n",
        "2008-01-31  14.4  14.4  14.40   14.4     1500      13.58\n",
        "2008-02-01  14.4  14.4  14.40   14.4     1800      13.58\n",
        "BBVA.MX"
       ]
      },
      {
       "output_type": "stream",
       "stream": "stdout",
       "text": [
        "\n",
        "              Open    High     Low   Close   Volume  Adj Close\n",
        "Date                                                          \n",
        "2005-08-22  184.00  184.00  183.83  183.84  1212300     180.87\n",
        "2005-08-23  183.34  183.48  183.01  183.40  1964600     180.43\n",
        "2005-08-24  185.00  185.00  185.00  185.00  3571800     182.01\n",
        "2005-08-25  185.00  195.00  183.00  195.00    12400     191.85\n",
        "2005-08-26  190.00  190.00  182.00  182.00   553200     179.06\n",
        "BEVIDESB.MX"
       ]
      },
      {
       "output_type": "stream",
       "stream": "stdout",
       "text": [
        "\n",
        "             Open   High  Low  Close  Volume  Adj Close\n",
        "Date                                                   \n",
        "2000-01-19  10.20  10.20   10     10       0       8.91\n",
        "2000-01-21  10.20  10.20   10     10       0       8.91\n",
        "2000-01-24  10.16  10.16   10     10       0       8.91\n",
        "2000-01-26  10.30  10.30   10     10       0       8.91\n",
        "2000-01-27  10.30  10.30   10     10       0       8.91\n",
        "BIMBOA.MX"
       ]
      },
      {
       "output_type": "stream",
       "stream": "stdout",
       "text": [
        "\n",
        "            Open   High    Low  Close   Volume  Adj Close\n",
        "Date                                                     \n",
        "2000-01-03  21.4  21.80  20.10  20.10   984000       4.69\n",
        "2000-01-04  19.5  19.50  19.18  19.20  1396000       4.48\n",
        "2000-01-05  18.8  19.50  18.60  19.50  1272000       4.55\n",
        "2000-01-06  19.4  19.40  18.70  18.72  1744000       4.37\n",
        "2000-01-07  18.8  19.34  18.76  19.00  8824000       4.44\n",
        "BOLSAA.MX"
       ]
      },
      {
       "output_type": "stream",
       "stream": "stdout",
       "text": [
        "\n",
        "             Open   High    Low  Close     Volume  Adj Close\n",
        "Date                                                        \n",
        "2008-06-13  18.20  20.00  16.40  16.49  125989800      13.70\n",
        "2008-06-16  16.50  16.98  16.20  16.36   15919100      13.59\n",
        "2008-06-17  16.40  16.44  15.40  15.51   18128400      12.88\n",
        "2008-06-18  15.60  15.70  15.10  15.54    7887700      12.91\n",
        "2008-06-19  15.52  15.88  15.22  15.54    6927200      12.91\n",
        "C.MX"
       ]
      },
      {
       "output_type": "stream",
       "stream": "stdout",
       "text": [
        "\n",
        "              Open    High    Low  Close  Volume  Adj Close\n",
        "Date                                                       \n",
        "2001-09-03  211.20  211.20  207.5  207.5       0    3947.25\n",
        "2001-12-10  219.00  219.00  217.5  217.5       0    4137.48\n",
        "2002-04-08  231.82  231.82  218.5  218.5       0    4156.51\n",
        "2002-04-09  220.00  220.00  218.5  218.5       0    4156.51\n",
        "2002-05-10  212.25  212.25  202.5  202.5       0    3852.14\n",
        "CABLECPO.MX"
       ]
      },
      {
       "output_type": "stream",
       "stream": "stdout",
       "text": [
        "\n",
        "             Open   High   Low  Close  Volume  Adj Close\n",
        "Date                                                    \n",
        "2002-04-11  15.20  15.20  15.2  15.20   20000      15.20\n",
        "2002-04-12  14.75  15.20  14.7  14.71  605100      14.71\n",
        "2002-04-15  15.00  15.00  14.8  14.80       0      14.80\n",
        "2002-04-16  14.80  14.80  14.8  14.80  437100      14.80\n",
        "2002-04-17  14.95  14.95  14.9  14.90       0      14.90\n",
        "CEMEXCPO.MX"
       ]
      },
      {
       "output_type": "stream",
       "stream": "stdout",
       "text": [
        "\n",
        "             Open   High   Low  Close    Volume  Adj Close\n",
        "Date                                                      \n",
        "2000-01-03  53.10  53.80  51.5   52.0   5724100      12.13\n",
        "2000-01-04  50.00  50.20  48.4   48.4  17010200      11.29\n",
        "2000-01-05  48.45  49.00  47.4   48.6  25979200      11.33\n",
        "2000-01-06  48.70  49.05  47.3   47.8   9767600      11.15\n",
        "2000-01-07  48.00  48.30  47.6   48.3  30255600      11.26\n",
        "CERAMICB.MX"
       ]
      },
      {
       "output_type": "stream",
       "stream": "stdout",
       "text": [
        "\n",
        "            Open  High   Low  Close  Volume  Adj Close\n",
        "Date                                                  \n",
        "2004-04-12  17.5  17.5  17.5   17.5       0      16.92\n",
        "2004-04-13  17.5  17.5  17.5   17.5       0      16.92\n",
        "2004-04-14  17.5  17.5  17.5   17.5       0      16.92\n",
        "2004-04-15  17.5  17.5  17.5   17.5       0      16.92\n",
        "2004-12-07  10.6  10.6  10.6   10.6       0      10.25\n",
        "CHDRAUIB.MX"
       ]
      },
      {
       "output_type": "stream",
       "stream": "stdout",
       "text": [
        "\n",
        "             Open   High    Low  Close   Volume  Adj Close\n",
        "Date                                                      \n",
        "2010-05-03  35.95  35.98  35.21  35.95  3971800      35.30\n",
        "2010-05-04  35.95  35.95  35.20  35.40  2211600      34.76\n",
        "2010-05-05  35.32  35.79  35.01  35.40  2181000      34.76\n",
        "2010-05-06  35.30  35.50  35.00  35.00  7725700      34.37\n",
        "2010-05-07  35.00  35.15  34.52  34.80  6111500      34.17\n",
        "CIDMEGA.MX"
       ]
      },
      {
       "output_type": "stream",
       "stream": "stdout",
       "text": [
        "\n",
        "            Open  High   Low  Close  Volume  Adj Close\n",
        "Date                                                  \n",
        "2002-01-24  2.19  2.19  1.35   1.35       0       1.30\n",
        "2002-01-25  2.10  2.10  2.10   2.10     100       2.03\n",
        "2002-01-28  2.00  2.00  2.00   2.00     100       1.93\n",
        "2002-01-29  1.70  1.70  1.70   1.70   10000       1.64\n",
        "2002-01-30  1.86  1.95  1.86   1.95    4400       1.88\n",
        "CIEB.MX"
       ]
      },
      {
       "output_type": "stream",
       "stream": "stdout",
       "text": [
        "\n",
        "             Open   High    Low  Close  Volume  Adj Close\n",
        "Date                                                     \n",
        "2000-03-21  47.25  47.25  47.25  47.25       0      47.25\n",
        "2000-04-20  39.95  39.95  39.95  39.95       0      39.95\n",
        "2000-04-21  39.95  39.95  39.95  39.95       0      39.95\n",
        "2000-05-01  38.60  38.60  38.60  38.60       0      38.60\n",
        "2000-05-05  40.50  40.50  40.50  40.50       0      40.50\n",
        "CMOCTEZ.MX"
       ]
      },
      {
       "output_type": "stream",
       "stream": "stdout",
       "text": [
        "\n",
        "             Open   High   Low  Close  Volume  Adj Close\n",
        "Date                                                    \n",
        "2000-01-03  14.90  14.90  14.9   14.9       0       2.72\n",
        "2000-01-04  14.90  14.90  14.9   14.9   40000       2.72\n",
        "2000-01-05  14.90  14.90  14.9   14.9       0       2.72\n",
        "2000-01-06  14.90  14.90  14.9   14.9       0       2.72\n",
        "2000-01-07  14.92  14.92  14.9   14.9  180000       2.72\n",
        "CMRB.MX"
       ]
      },
      {
       "output_type": "stream",
       "stream": "stdout",
       "text": [
        "\n",
        "            Open  High   Low  Close  Volume  Adj Close\n",
        "Date                                                  \n",
        "2000-01-03  1.60  1.60  1.45   1.45       0       1.44\n",
        "2000-01-04  1.43  1.45  1.40   1.45  124000       1.44\n",
        "2000-01-05  1.47  1.47  1.38   1.44  122000       1.43\n",
        "2000-01-06  1.40  1.40  1.40   1.40   30000       1.39\n",
        "2000-01-07  1.38  1.40  1.37   1.40  281000       1.39\n",
        "COLLADO.MX"
       ]
      },
      {
       "output_type": "stream",
       "stream": "stdout",
       "text": [
        "\n",
        "             Open   High    Low  Close  Volume  Adj Close\n",
        "Date                                                     \n",
        "2007-12-18  18.00  20.70  17.99  20.70   16200      20.70\n",
        "2007-12-19  20.80  20.80  20.80  20.80       0      20.80\n",
        "2007-12-20  20.70  20.70  17.00  17.00       0      17.00\n",
        "2007-12-21  20.70  20.70  16.50  16.50       0      16.50\n",
        "2007-12-24  20.98  20.98  20.98  20.98       0      20.98\n",
        "COMERCIUBC.MX"
       ]
      },
      {
       "output_type": "stream",
       "stream": "stdout",
       "text": [
        "\n",
        "             Open   High    Low  Close  Volume  Adj Close\n",
        "Date                                                     \n",
        "2000-03-13  11.40  11.40  11.40  11.40       0      11.10\n",
        "2000-03-21  10.98  10.98  10.98  10.98       0      10.69\n",
        "2000-04-20  10.00  10.00  10.00  10.00       0       9.74\n",
        "2000-04-21  10.00  10.00  10.00  10.00       0       9.74\n",
        "2000-05-01   9.90   9.90   9.90   9.90       0       9.64\n",
        "CONVERA.MX"
       ]
      },
      {
       "output_type": "stream",
       "stream": "stdout",
       "text": [
        "\n",
        "            Open  High  Low  Close  Volume  Adj Close\n",
        "Date                                                 \n",
        "2000-01-03   5.7   5.7  5.1    5.1       0        5.1\n",
        "2000-01-04   5.1   5.1  5.1    5.1       0        5.1\n",
        "2000-01-05   5.1   5.1  5.1    5.1       0        5.1\n",
        "2000-01-06   5.1   5.1  5.1    5.1       0        5.1\n",
        "2000-01-07   5.1   5.1  5.1    5.1       0        5.1\n",
        "CULTIBAB.MX"
       ]
      },
      {
       "output_type": "stream",
       "stream": "stdout",
       "text": [
        "\n",
        "            Open  High   Low  Close  Volume  Adj Close\n",
        "Date                                                  \n",
        "2000-01-06  12.5  12.5  12.5   12.5    6000       1.92\n",
        "2000-01-07  12.5  12.5  12.5   12.5       0       1.92\n",
        "2000-01-10  12.5  12.5  12.5   12.5       0       1.92\n",
        "2000-01-11  12.5  12.5  12.5   12.5       0       1.92\n",
        "2000-01-12  12.5  12.5  12.5   12.5       0       1.92\n",
        "CYDSASAA.MX"
       ]
      },
      {
       "output_type": "stream",
       "stream": "stdout",
       "text": [
        "\n",
        "            Open  High  Low  Close  Volume  Adj Close\n",
        "Date                                                 \n",
        "2000-01-03  9.00  9.00  8.8    8.8       0       2.11\n",
        "2000-01-04  9.06  9.06  9.0    9.0   79200       2.16\n",
        "2000-01-05  9.00  9.00  9.0    9.0  254600       2.16\n",
        "2000-01-06  9.00  9.00  8.5    8.5       0       2.04\n",
        "2000-01-07  8.50  8.50  8.5    8.5  164100       2.04\n",
        "DINEB.MX"
       ]
      },
      {
       "output_type": "stream",
       "stream": "stdout",
       "text": [
        "\n",
        "            Open  High   Low  Close  Volume  Adj Close\n",
        "Date                                                  \n",
        "2000-01-03  39.1  41.0  38.4   38.9   91600       38.9\n",
        "2000-01-04  37.8  37.8  35.1   35.4  171200       35.4\n",
        "2000-01-05  35.0  36.0  33.5   36.0  320800       36.0\n",
        "2000-01-06  35.5  36.4  35.0   35.1  429400       35.1\n",
        "2000-01-07  35.2  37.4  35.1   37.4  492200       37.4\n",
        "EDOARDOB.MX"
       ]
      },
      {
       "output_type": "stream",
       "stream": "stdout",
       "text": [
        "\n",
        "            Open  High   Low  Close  Volume  Adj Close\n",
        "Date                                                  \n",
        "2000-01-04  2.68  2.68  1.90   1.90       0       1.90\n",
        "2000-01-05  2.61  2.61  1.90   1.90       0       1.90\n",
        "2000-01-07  2.64  2.64  2.40   2.40       0       2.40\n",
        "2000-01-11  2.70  2.70  2.24   2.24       0       2.24\n",
        "2000-01-12  2.40  2.40  2.24   2.24       0       2.24\n",
        "ELEKTRA.MX"
       ]
      },
      {
       "output_type": "stream",
       "stream": "stdout",
       "text": [
        "\n",
        "            Open   High  Low  Close  Volume  Adj Close\n",
        "Date                                                  \n",
        "2000-01-03   108  110.8  102  105.6       0     103.39\n",
        "2000-01-04   100  100.0   92   98.0       0      95.95\n",
        "2000-01-05    92  100.0   92  100.0       0      97.90\n",
        "2000-01-06   100  100.0   96   98.0       0      95.95\n",
        "2000-01-07    98  106.0   98  105.2       0     102.99\n",
        "FEMSAUBD.MX"
       ]
      },
      {
       "output_type": "stream",
       "stream": "stdout",
       "text": [
        "\n",
        "             Open  High   Low  Close   Volume  Adj Close\n",
        "Date                                                    \n",
        "2000-01-03  42.35  42.6  41.0  41.25  2202000      12.78\n",
        "2000-01-04  40.90  40.9  38.6  38.70  4686000      11.99\n",
        "2000-01-05  38.75  39.5  37.4  39.40  9747000      12.21\n",
        "2000-01-06  39.45  39.5  39.0  39.15  2571000      12.13\n",
        "2000-01-07  39.50  41.9  39.5  41.80  2907000      12.95\n",
        "FINAMEXO.MX"
       ]
      },
      {
       "output_type": "stream",
       "stream": "stdout",
       "text": [
        "\n",
        "            Open  High   Low  Close   Volume  Adj Close\n",
        "Date                                                   \n",
        "2001-08-23  1.50  1.51  1.50   1.51  1269100       0.09\n",
        "2001-08-24  1.51  1.51  1.51   1.51  1665000       0.09\n",
        "2001-08-27  1.51  1.51  1.51   1.51    22500       0.09\n",
        "2001-08-28  1.56  1.56  1.56   1.56    73700       0.09\n",
        "2001-08-29  1.57  1.74  1.57   1.58  2786600       0.09\n",
        "FINDEP.MX"
       ]
      },
      {
       "output_type": "stream",
       "stream": "stdout",
       "text": [
        "\n",
        "             Open   High    Low  Close    Volume  Adj Close\n",
        "Date                                                       \n",
        "2007-11-01  24.05  25.10  24.00  24.13  36912300      21.94\n",
        "2007-11-05  24.00  24.05  23.70  23.95   9164000      21.77\n",
        "2007-11-06  24.01  24.40  23.85  23.93   4123200      21.75\n",
        "2007-11-07  23.90  23.90  22.79  22.99   2209700      20.90\n",
        "2007-11-08  23.60  23.70  21.00  22.00   5732300      20.00\n",
        "FRAGUAB.MX"
       ]
      },
      {
       "output_type": "stream",
       "stream": "stdout",
       "text": [
        "\n",
        "            Open  High  Low  Close  Volume  Adj Close\n",
        "Date                                                 \n",
        "2000-01-07  14.5  14.5   14     14       0      13.56\n",
        "2000-01-10  14.0  14.0   14     14       0      13.56\n",
        "2000-01-12  14.1  14.1   14     14       0      13.56\n",
        "2000-01-17  14.0  14.0   14     14       0      13.56\n",
        "2000-01-19  14.5  14.5   14     14       0      13.56\n",
        "FRES.MX"
       ]
      },
      {
       "output_type": "stream",
       "stream": "stdout",
       "text": [
        "\n",
        "              Open    High     Low   Close  Volume  Adj Close\n",
        "Date                                                         \n",
        "2008-05-14  111.90  111.90  111.90  111.90    1000     110.83\n",
        "2008-05-15  111.90  111.90  111.90  111.90       0     110.83\n",
        "2008-05-16  111.90  111.90  111.90  111.90       0     110.83\n",
        "2008-05-19  110.25  110.25  110.25  110.25       0     109.20\n",
        "2008-05-20  113.00  113.00  113.00  113.00       0     111.92\n",
        "GAPB.MX"
       ]
      },
      {
       "output_type": "stream",
       "stream": "stdout",
       "text": [
        "\n",
        "             Open   High    Low  Close    Volume  Adj Close\n",
        "Date                                                       \n",
        "2006-02-27  29.53  30.50  29.50  30.20  18404600      20.15\n",
        "2006-02-28  30.00  30.40  29.00  30.03   9699400      20.04\n",
        "2006-03-01  30.03  31.70  30.03  31.17   3748300      20.80\n",
        "2006-03-02  31.48  31.80  31.25  31.70   3410700      21.15\n",
        "2006-03-03  31.50  31.81  30.99  31.17   2939400      20.80\n",
        "GBMO.MX"
       ]
      },
      {
       "output_type": "stream",
       "stream": "stdout",
       "text": [
        "\n",
        "            Open  High   Low  Close  Volume  Adj Close\n",
        "Date                                                  \n",
        "2009-02-23  3.10   3.1  3.10    3.1   24400      26.33\n",
        "2009-02-24  3.10   3.1  3.10    3.1     500      26.33\n",
        "2009-02-25  2.95   3.1  2.95    3.0   36300      25.48\n",
        "2009-02-26  3.00   3.0  2.90    2.9   26800      24.63\n",
        "2009-02-27  2.90   2.9  2.90    2.9     400      24.63\n",
        "GCARSOA1.MX"
       ]
      },
      {
       "output_type": "stream",
       "stream": "stdout",
       "text": [
        "\n",
        "             Open   High    Low  Close  Volume  Adj Close\n",
        "Date                                                     \n",
        "2000-03-13  19.31  19.31  19.31  19.31       0       5.87\n",
        "2000-03-21  18.38  18.38  18.38  18.38       0       5.59\n",
        "2000-04-20  16.18  16.18  16.18  16.18       0       4.92\n",
        "2000-04-21  16.18  16.18  16.18  16.18       0       4.92\n",
        "2000-05-01  15.64  15.64  15.64  15.64       0       4.76\n",
        "GCC.MX"
       ]
      },
      {
       "output_type": "stream",
       "stream": "stdout",
       "text": [
        "\n",
        "            Open  High  Low  Close  Volume  Adj Close\n",
        "Date                                                 \n",
        "2002-07-08   7.0   7.0  7.0      7   50000       6.89\n",
        "2002-07-09   7.0   7.0  7.0      7  100000       6.89\n",
        "2002-07-10   7.0   7.0  7.0      7    7000       6.89\n",
        "2002-07-11   6.9   7.0  6.9      7   15000       6.89\n",
        "2002-07-12   7.1   7.1  7.0      7       0       6.89\n",
        "GENSEG.MX"
       ]
      },
      {
       "output_type": "stream",
       "stream": "stdout",
       "text": [
        "\n",
        "            Open  High  Low  Close  Volume  Adj Close\n",
        "Date                                                 \n",
        "2000-01-21   5.5   5.5  5.5    5.5       0       5.29\n",
        "2000-01-24   5.5   5.5  5.5    5.5       0       5.29\n",
        "2000-01-25   5.5   5.5  5.5    5.5       0       5.29\n",
        "2000-01-26   5.5   5.5  5.5    5.5       0       5.29\n",
        "2000-01-27   5.5   5.5  5.5    5.5       0       5.29\n",
        "GENTERA.MX"
       ]
      },
      {
       "output_type": "stream",
       "stream": "stdout",
       "text": [
        "\n",
        "             Open   High    Low  Close   Volume  Adj Close\n",
        "Date                                                      \n",
        "2010-12-30  26.49  26.77  26.41  26.49  1497100      25.26\n",
        "2010-12-31  26.85  27.00  26.49  26.85  1158800      25.60\n",
        "2011-01-03  26.59  27.10  26.39  26.59  2015100      25.35\n",
        "2011-01-04  26.42  26.65  26.21  26.42  4565900      25.19\n",
        "2011-01-05  25.72  26.51  25.53  25.72  5381400      24.52\n",
        "GEOB.MX"
       ]
      },
      {
       "output_type": "stream",
       "stream": "stdout",
       "text": [
        "\n",
        "            Open  High   Low  Close  Volume  Adj Close\n",
        "Date                                                  \n",
        "2000-03-21  27.1  27.1  27.1   27.1       0       27.1\n",
        "2000-04-20  20.9  20.9  20.9   20.9       0       20.9\n",
        "2000-04-21  20.9  20.9  20.9   20.9       0       20.9\n",
        "2000-05-01  21.6  21.6  21.6   21.6       0       21.6\n",
        "2000-05-05  20.3  20.3  20.3   20.3       0       20.3\n",
        "GFAMSAA.MX"
       ]
      },
      {
       "output_type": "stream",
       "stream": "stdout",
       "text": [
        "\n",
        "             Open   High   Low  Close   Volume  Adj Close\n",
        "Date                                                     \n",
        "2006-05-22  26.20  26.20  25.0  25.04  4933900      25.04\n",
        "2006-05-23  25.10  25.75  25.0  25.05  3763100      25.05\n",
        "2006-05-24  25.60  25.60  24.1  24.39  3304200      24.39\n",
        "2006-05-25  24.70  25.50  24.7  25.09  1397600      25.09\n",
        "2006-05-26  25.12  25.75  25.0  25.15   507400      25.15\n",
        "GFINBURO.MX"
       ]
      },
      {
       "output_type": "stream",
       "stream": "stdout",
       "text": [
        "\n",
        "            Open  High    Low  Close    Volume  Adj Close\n",
        "Date                                                     \n",
        "2000-01-03  39.0  39.0  38.70   38.8   6102000       5.54\n",
        "2000-01-04  38.5  38.6  38.50   38.6  17796000       5.51\n",
        "2000-01-05  38.6  38.6  37.60   38.3  29790000       5.47\n",
        "2000-01-06  38.7  38.7  37.25   37.4  18816000       5.34\n",
        "2000-01-07  37.6  38.2  37.60   38.2   6966000       5.45\n",
        "GFINTERO.MX"
       ]
      },
      {
       "output_type": "stream",
       "stream": "stdout",
       "text": [
        "\n",
        "            Open  High   Low  Close  Volume  Adj Close\n",
        "Date                                                  \n",
        "2000-01-10  3.46  3.46  3.46   3.46    1000        3.1\n",
        "2000-01-11  3.46  3.46  3.46   3.46       0        3.1\n",
        "2000-01-12  3.46  3.46  3.46   3.46       0        3.1\n",
        "2000-01-13  3.46  3.46  3.46   3.46       0        3.1\n",
        "2000-01-14  3.46  3.46  3.46   3.46       0        3.1\n",
        "GFMULTIO.MX"
       ]
      },
      {
       "output_type": "stream",
       "stream": "stdout",
       "text": [
        "\n",
        "            Open  High   Low  Close  Volume  Adj Close\n",
        "Date                                                  \n",
        "2000-01-28  1.05  1.05  1.05   1.05    1000       1.05\n",
        "2000-01-31  1.05  1.05  1.05   1.05    6000       1.05\n",
        "2000-02-01  1.05  1.05  1.05   1.05       0       1.05\n",
        "2000-02-02  1.05  1.05  1.05   1.05       0       1.05\n",
        "2000-02-03  1.05  1.05  1.05   1.05       0       1.05\n",
        "GFNORTEO.MX"
       ]
      },
      {
       "output_type": "stream",
       "stream": "stdout",
       "text": [
        "\n",
        "             Open   High    Low  Close   Volume  Adj Close\n",
        "Date                                                      \n",
        "2000-01-03  14.60  14.72  13.70  14.14  2452000       3.35\n",
        "2000-01-04  13.90  13.90  12.58  12.70  4920000       3.01\n",
        "2000-01-05  12.70  13.46  12.30  13.10  2824000       3.10\n",
        "2000-01-06  13.10  13.30  13.00  13.30  2116000       3.15\n",
        "2000-01-07  13.32  13.76  13.32  13.46  4104000       3.19\n",
        "GFREGIOO.MX"
       ]
      },
      {
       "output_type": "stream",
       "stream": "stdout",
       "text": [
        "\n",
        "             Open  High    Low  Close   Volume  Adj Close\n",
        "Date                                                     \n",
        "2011-07-15  32.15  33.5  32.00   32.0  5781200      30.64\n",
        "2011-07-18  32.02  32.3  32.00   32.0   337400      30.64\n",
        "2011-07-19  32.00  32.1  31.99   32.0   711500      30.64\n",
        "2011-07-20  32.00  32.0  31.75   31.8   489700      30.45\n",
        "2011-07-21  32.00  32.0  31.80   32.0   133900      30.64\n",
        "GIGANTE.MX"
       ]
      },
      {
       "output_type": "stream",
       "stream": "stdout",
       "text": [
        "\n",
        "            Open  High  Low  Close  Volume  Adj Close\n",
        "Date                                                 \n",
        "2000-01-06  4.38  4.38  4.3    4.3       0       3.52\n",
        "2000-01-13  4.30  4.30  4.2    4.2       0       3.44\n",
        "2000-01-17  4.50  4.50  4.3    4.3       0       3.52\n",
        "2000-01-19  4.40  4.40  4.3    4.3       0       3.52\n",
        "2000-01-27  4.60  4.60  4.1    4.1       0       3.36\n",
        "GISSAA.MX"
       ]
      },
      {
       "output_type": "stream",
       "stream": "stdout",
       "text": [
        "\n",
        "            Open  High   Low  Close  Volume  Adj Close\n",
        "Date                                                  \n",
        "2002-10-10  19.3  19.3  19.2  19.20  113800      15.62\n",
        "2002-10-11  19.3  19.3  19.3  19.30   72800      15.70\n",
        "2002-10-14  19.1  19.1  19.1  19.10   93000      15.54\n",
        "2002-10-15  19.1  19.3  19.1  19.28  205000      15.69\n",
        "2002-10-16  19.1  19.1  19.1  19.10  115000      15.54\n",
        "GMACMAB.MX"
       ]
      },
      {
       "output_type": "stream",
       "stream": "stdout",
       "text": [
        "\n",
        "            Open  High  Low  Close  Volume  Adj Close\n",
        "Date                                                 \n",
        "2009-02-23     1     1    1      1       0          1\n",
        "2009-02-24     1     1    1      1       0          1\n",
        "2009-02-25     1     1    1      1       0          1\n",
        "2009-02-26     1     1    1      1       0          1\n",
        "2009-02-27     1     1    1      1       0          1\n",
        "GMD.MX"
       ]
      },
      {
       "output_type": "stream",
       "stream": "stdout",
       "text": [
        "\n",
        "            Open  High  Low  Close  Volume  Adj Close\n",
        "Date                                                 \n",
        "2000-11-30   2.5   2.5  2.5    2.5    3000        2.5\n",
        "2000-12-04   2.5   2.5  2.5    2.5    1000        2.5\n",
        "2000-12-05   2.5   2.5  2.5    2.5    2000        2.5\n",
        "2000-12-06   2.5   2.5  2.5    2.5    1000        2.5\n",
        "2000-12-08   2.5   2.5  2.0    2.0       0        2.0\n",
        "GMEXICOB.MX"
       ]
      },
      {
       "output_type": "stream",
       "stream": "stdout",
       "text": [
        "\n",
        "             Open   High    Low  Close    Volume  Adj Close\n",
        "Date                                                       \n",
        "2000-01-03  48.08  48.08  46.66  46.66    712200       4.45\n",
        "2000-01-04  45.09  46.92  45.09  46.06   6757900       4.39\n",
        "2000-01-05  46.06  47.12  45.85  46.46  10168400       4.43\n",
        "2000-01-06  46.51  50.57  46.41  50.57  13398800       4.82\n",
        "2000-01-07  50.67  53.91  50.67  53.71  11278400       5.12\n",
        "GMODELOC.MX"
       ]
      },
      {
       "output_type": "stream",
       "stream": "stdout",
       "text": [
        "\n",
        "             Open   High    Low  Close   Volume  Adj Close\n",
        "Date                                                      \n",
        "2000-01-03  26.10  26.35  25.90   26.2  1462000      21.86\n",
        "2000-01-04  25.90  25.90  24.90   25.6  1884000      21.36\n",
        "2000-01-05  25.50  25.50  24.60   24.8  2715000      20.70\n",
        "2000-01-06  24.80  25.00  24.70   24.8   672000      20.70\n",
        "2000-01-07  25.05  27.00  25.05   26.7  2642000      22.28\n",
        "GNP.MX"
       ]
      },
      {
       "output_type": "stream",
       "stream": "stdout",
       "text": [
        "\n",
        "             Open   High  Low  Close  Volume  Adj Close\n",
        "Date                                                   \n",
        "2000-01-20  10.06  10.06    9      9       0       5.98\n",
        "2000-01-21  10.06  10.06    9      9       0       5.98\n",
        "2000-01-24   9.00   9.00    9      9       0       5.98\n",
        "2000-01-25  10.06  10.06    9      9       0       5.98\n",
        "2000-01-26  10.06  10.06    9      9       0       5.98\n",
        "GOMO.MX"
       ]
      },
      {
       "output_type": "stream",
       "stream": "stdout",
       "text": [
        "\n",
        "            Open  High   Low  Close   Volume  Adj Close\n",
        "Date                                                   \n",
        "2000-01-04  5.50  5.50  4.94   4.94        0       4.94\n",
        "2000-01-05  5.70  5.70  5.12   5.12        0       5.12\n",
        "2000-01-06  5.20  5.70  5.20   5.70    14000       5.70\n",
        "2000-01-07  5.50  5.70  5.22   5.70  1805000       5.70\n",
        "2000-01-10  5.42  5.42  5.40   5.40    11000       5.40\n",
        "GPH1.MX"
       ]
      },
      {
       "output_type": "stream",
       "stream": "stdout",
       "text": [
        "\n",
        "            Open  High   Low  Close  Volume  Adj Close\n",
        "Date                                                  \n",
        "2009-02-23  58.5  58.5  58.5   58.5       0      55.98\n",
        "2009-02-24  58.5  58.5  58.5   58.5       0      55.98\n",
        "2009-02-25  58.5  58.5  58.5   58.5       0      55.98\n",
        "2009-02-26  58.5  58.5  58.5   58.5       0      55.98\n",
        "2009-02-27  58.5  58.5  58.5   58.5       0      55.98\n",
        "GPROFUT.MX"
       ]
      },
      {
       "output_type": "stream",
       "stream": "stdout",
       "text": [
        "\n",
        "            Open  High  Low  Close  Volume  Adj Close\n",
        "Date                                                 \n",
        "2002-04-05     7     7  6.5    6.5       0       2.88\n",
        "2002-04-08     7     7  6.3    6.3       0       2.79\n",
        "2002-04-10     7     7  6.3    6.3       0       2.79\n",
        "2002-04-11     7     7  6.5    6.5       0       2.88\n",
        "2002-04-19     9     9  6.5    6.5       0       2.88\n",
        "GRUMAB.MX"
       ]
      },
      {
       "output_type": "stream",
       "stream": "stdout",
       "text": [
        "\n",
        "             Open   High    Low  Close  Volume  Adj Close\n",
        "Date                                                     \n",
        "2000-01-28   9.68   9.68   9.44   9.44       0       9.34\n",
        "2000-03-21  12.00  12.00  12.00  12.00       0      11.88\n",
        "2000-04-19  11.28  11.28  11.00  11.00       0      10.89\n",
        "2000-04-20  11.00  11.00  11.00  11.00       0      10.89\n",
        "2000-04-21  11.00  11.00  11.00  11.00       0      10.89\n",
        "HERDEZ.MX"
       ]
      },
      {
       "output_type": "stream",
       "stream": "stdout",
       "text": [
        "\n",
        "            Open  High   Low  Close  Volume  Adj Close\n",
        "Date                                                  \n",
        "2002-07-15  4.03  4.03  4.03   4.03    3000       3.37\n",
        "2002-07-16  4.03  4.03  4.03   4.03       0       3.37\n",
        "2002-07-17  4.03  4.03  4.03   4.03       0       3.37\n",
        "2002-07-18  4.03  4.03  4.03   4.03     800       3.37\n",
        "2002-07-19  4.03  4.03  4.03   4.03       0       3.37\n",
        "HILASALA.MX"
       ]
      },
      {
       "output_type": "stream",
       "stream": "stdout",
       "text": [
        "\n",
        "            Open  High   Low  Close  Volume  Adj Close\n",
        "Date                                                  \n",
        "2000-01-03  2.00  2.00  1.92   1.92       0       1.92\n",
        "2000-01-04  1.90  1.90  1.82   1.82   22000       1.82\n",
        "2000-01-05  1.82  1.86  1.76   1.80  108000       1.80\n",
        "2000-01-06  1.84  1.84  1.81   1.81  190000       1.81\n",
        "2000-01-07  1.85  1.89  1.84   1.89  273000       1.89\n",
        "HOGARB.MX"
       ]
      },
      {
       "output_type": "stream",
       "stream": "stdout",
       "text": [
        "\n",
        "            Open  High   Low  Close  Volume  Adj Close\n",
        "Date                                                  \n",
        "2000-01-03  5.04  5.22  4.99   5.06   13700       50.6\n",
        "2000-01-04  5.00  5.00  4.80   4.80    8500       48.0\n",
        "2000-01-05  4.85  4.85  4.85   4.85    2400       48.5\n",
        "2000-01-06  4.80  4.80  4.80   4.80   11000       48.0\n",
        "2000-01-07  4.90  6.10  4.90   5.70  203300       57.0\n",
        "HOMEX.MX"
       ]
      },
      {
       "output_type": "stream",
       "stream": "stdout",
       "text": [
        "\n",
        "             Open   High   Low  Close  Volume  Adj Close\n",
        "Date                                                    \n",
        "2004-07-19  33.90  33.98  33.8  33.98   29400      33.98\n",
        "2004-07-20  33.98  33.98  33.4  33.80  127600      33.80\n",
        "2004-07-21  33.80  34.01  33.8  34.01   87000      34.01\n",
        "2004-07-22  33.80  34.40  33.6  34.34  343100      34.34\n",
        "2004-07-23  34.49  34.60  34.0  34.00  126700      34.00\n",
        "IASASA.MX"
       ]
      },
      {
       "output_type": "stream",
       "stream": "stdout",
       "text": [
        "\n",
        "            Open  High   Low  Close  Volume  Adj Close\n",
        "Date                                                  \n",
        "2000-01-03  0.01  0.01  0.01   0.01       0       0.06\n",
        "2000-01-04  0.01  0.01  0.00   0.00       0       0.04\n",
        "2000-01-05  0.01  0.01  0.00   0.00       0       0.04\n",
        "2000-01-06  0.01  0.01  0.00   0.00       0       0.04\n",
        "2000-01-07  0.01  0.01  0.00   0.00       0       0.04\n",
        "ICA.MX"
       ]
      },
      {
       "output_type": "stream",
       "stream": "stdout",
       "text": [
        "\n",
        "            Open  High  Low  Close  Volume  Adj Close\n",
        "Date                                                 \n",
        "2000-01-03   5.4  5.54  5.1   5.28  108400      31.68\n",
        "2000-01-04   5.0  5.00  4.6   4.90  217300      29.41\n",
        "2000-01-05   4.6  5.00  4.6   5.00   75100      30.02\n",
        "2000-01-06   5.0  5.00  4.8   4.90   75100      29.41\n",
        "2000-01-07   4.9  5.30  4.9   5.26  256800      31.57\n",
        "ICHB.MX"
       ]
      },
      {
       "output_type": "stream",
       "stream": "stdout",
       "text": [
        "\n",
        "            Open  High   Low  Close  Volume  Adj Close\n",
        "Date                                                  \n",
        "2000-01-03  24.7  24.7  24.7   24.7    9000       8.23\n",
        "2000-01-04  24.0  24.0  22.5   23.0  285000       7.67\n",
        "2000-01-05  23.0  23.2  23.0   23.2  249000       7.73\n",
        "2000-01-06  23.2  23.2  22.6   22.6  465000       7.53\n",
        "2000-01-07  23.0  24.0  23.0   24.0  735000       8.00\n",
        "IDEALB-1.MX"
       ]
      },
      {
       "output_type": "stream",
       "stream": "stdout",
       "text": [
        "\n",
        "             Open   High    Low  Close  Volume  Adj Close\n",
        "Date                                                     \n",
        "2001-12-24  10.90  10.90  10.30  10.30       0      10.30\n",
        "2003-01-15   8.70   8.70   8.70   8.70  987000       8.70\n",
        "2003-09-10  11.49  11.73  11.49  11.73  443300      11.73\n",
        "2004-04-08  15.43  15.43  15.43  15.43       0      15.43\n",
        "2004-04-09  15.43  15.43  15.43  15.43       0      15.43\n",
        "INCARSOB-1.MX"
       ]
      },
      {
       "output_type": "stream",
       "stream": "stdout",
       "text": [
        "\n",
        "             Open   High    Low  Close   Volume  Adj Close\n",
        "Date                                                      \n",
        "2011-01-04  14.04  14.04  14.04  14.04        0      14.04\n",
        "2011-01-05  14.04  14.04  14.04  14.04        0      14.04\n",
        "2011-01-06  14.04  14.04  11.18  11.29  9478900      11.29\n",
        "2011-01-07  11.42  11.42  10.97  11.05  9152900      11.05\n",
        "2011-01-10  11.07  11.22  10.81  10.90  4226300      10.90\n",
        "INVEXA.MX"
       ]
      },
      {
       "output_type": "stream",
       "stream": "stdout",
       "text": [
        "\n",
        "            Open  High   Low  Close  Volume  Adj Close\n",
        "Date                                                  \n",
        "2000-01-05  8.80   8.8  8.80    8.8    1000       8.54\n",
        "2000-01-06  8.80   8.8  8.80    8.8       0       8.54\n",
        "2000-01-07  8.80   8.8  8.80    8.8       0       8.54\n",
        "2000-01-10  8.80   8.8  8.80    8.8       0       8.54\n",
        "2000-01-11  8.76   8.8  8.76    8.8   72000       8.54\n",
        "KIMBERA.MX"
       ]
      },
      {
       "output_type": "stream",
       "stream": "stdout",
       "text": [
        "\n",
        "             Open  High    Low  Close   Volume  Adj Close\n",
        "Date                                                     \n",
        "2000-01-03  37.50  37.5  36.45  36.90  3609000       5.85\n",
        "2000-01-04  35.90  35.9  34.20  34.30  4494000       5.44\n",
        "2000-01-05  34.30  34.4  32.40  33.45  7584000       5.31\n",
        "2000-01-06  33.35  33.5  32.55  32.60  3369000       5.17\n",
        "2000-01-07  33.00  34.6  33.00  34.50  5913000       5.47\n",
        "KOFL.MX"
       ]
      },
      {
       "output_type": "stream",
       "stream": "stdout",
       "text": [
        "\n",
        "             Open   High    Low  Close  Volume  Adj Close\n",
        "Date                                                     \n",
        "2000-01-04  16.84  16.84  15.80  15.80       0      14.22\n",
        "2000-01-06  17.00  17.00  15.90  15.90       0      14.31\n",
        "2000-01-12  16.90  16.90  16.38  16.38       0      14.74\n",
        "2000-01-19  16.80  16.80  16.00  16.00       0      14.40\n",
        "2000-02-02  15.10  15.10  14.80  14.80       0      13.32\n",
        "KUOB.MX"
       ]
      },
      {
       "output_type": "stream",
       "stream": "stdout",
       "text": [
        "\n",
        "            Open  High   Low  Close  Volume  Adj Close\n",
        "Date                                                  \n",
        "2000-01-03  7.82  8.20  7.68   7.78   91600      37.11\n",
        "2000-01-04  7.56  7.56  7.02   7.08  171200      33.77\n",
        "2000-01-05  7.00  7.20  6.70   7.20  320800      34.34\n",
        "2000-01-06  7.10  7.28  7.00   7.02  429400      33.49\n",
        "2000-01-07  7.04  7.48  7.02   7.48  492200      35.68\n",
        "LABB.MX"
       ]
      },
      {
       "output_type": "stream",
       "stream": "stdout",
       "text": [
        "\n",
        "             Open   High    Low  Close    Volume  Adj Close\n",
        "Date                                                       \n",
        "2008-06-18  16.15  16.90  16.00  16.67  37229400       8.34\n",
        "2008-06-19  16.67  16.67  16.21  16.54   2317800       8.27\n",
        "2008-06-20  16.50  16.60  16.00  16.53   1317200       8.27\n",
        "2008-06-23  16.40  16.40  16.10  16.38    345000       8.19\n",
        "2008-06-24  16.00  16.11  16.00  16.01   3692600       8.01\n",
        "LAMOSA.MX"
       ]
      },
      {
       "output_type": "stream",
       "stream": "stdout",
       "text": [
        "\n",
        "            Open  High   Low  Close  Volume  Adj Close\n",
        "Date                                                  \n",
        "2000-01-11  9.33  9.33  9.33   9.33       0       2.99\n",
        "2000-01-12  9.33  9.33  9.33   9.33       0       2.99\n",
        "2000-01-13  9.33  9.33  9.33   9.33       0       2.99\n",
        "2000-01-14  9.33  9.33  9.33   9.33       0       2.99\n",
        "2000-01-17  9.33  9.33  9.33   9.33       0       2.99\n",
        "LASEG.MX"
       ]
      },
      {
       "output_type": "stream",
       "stream": "stdout",
       "text": [
        "\n",
        "            Open  High  Low  Close  Volume  Adj Close\n",
        "Date                                                 \n",
        "2009-02-23   4.9   4.9  4.9    4.9       0        4.9\n",
        "2009-02-24   4.9   4.9  4.9    4.9       0        4.9\n",
        "2009-02-25   4.9   4.9  4.9    4.9       0        4.9\n",
        "2009-02-26   4.9   4.9  4.9    4.9       0        4.9\n",
        "2009-02-27   4.9   4.9  4.9    4.9       0        4.9\n",
        "LIVEPOLC-1.MX"
       ]
      },
      {
       "output_type": "stream",
       "stream": "stdout",
       "text": [
        "\n",
        "             Open   High    Low  Close  Volume  Adj Close\n",
        "Date                                                     \n",
        "2000-01-06  18.40  18.40  18.40  18.40    5000      17.66\n",
        "2000-01-07  18.40  18.40  18.40  18.40       0      17.66\n",
        "2000-01-10  18.40  18.40  18.40  18.40       0      17.66\n",
        "2000-01-11  18.40  18.40  18.40  18.40       0      17.66\n",
        "2000-01-12  18.38  18.38  18.38  18.38    8000      17.64\n",
        "MASECAB.MX"
       ]
      },
      {
       "output_type": "stream",
       "stream": "stdout",
       "text": [
        "\n",
        "            Open  High   Low  Close  Volume  Adj Close\n",
        "Date                                                  \n",
        "2000-03-21  5.82  5.82  5.82   5.82       0       4.24\n",
        "2000-04-20  4.30  4.30  4.30   4.30       0       3.13\n",
        "2000-04-21  4.30  4.30  4.30   4.30       0       3.13\n",
        "2000-05-01  4.35  4.35  4.35   4.35       0       3.17\n",
        "2000-05-05  4.25  4.25  4.25   4.25       0       3.09\n",
        "MAXCOMCPO.MX"
       ]
      },
      {
       "output_type": "stream",
       "stream": "stdout",
       "text": [
        "\n",
        "            Open  High   Low  Close   Volume  Adj Close\n",
        "Date                                                   \n",
        "2010-12-01  7.11  7.25  7.05   7.11   505500       7.11\n",
        "2010-12-02  7.04  7.15  6.94   7.04  1955500       7.04\n",
        "2010-12-03  6.98  7.12  6.94   6.98   983500       6.98\n",
        "2010-12-06  7.02  7.04  6.90   7.02  1127100       7.02\n",
        "2010-12-07  6.97  7.07  6.94   6.97  1408500       6.97\n",
        "MEDICAB.MX"
       ]
      },
      {
       "output_type": "stream",
       "stream": "stdout",
       "text": [
        "\n",
        "            Open  High  Low  Close  Volume  Adj Close\n",
        "Date                                                 \n",
        "2000-01-04   2.5   2.5  2.0    2.0       0       1.73\n",
        "2000-01-05   2.2   2.2  2.0    2.0       0       1.73\n",
        "2000-01-07   2.5   2.5  2.5    2.5       0       2.16\n",
        "2000-01-10   2.5   2.5  2.5    2.5       0       2.16\n",
        "2000-01-11   2.5   2.5  2.5    2.5       0       2.16\n",
        "MEGACPO.MX"
       ]
      },
      {
       "output_type": "stream",
       "stream": "stdout",
       "text": [
        "\n",
        "             Open   High    Low  Close    Volume  Adj Close\n",
        "Date                                                       \n",
        "2007-11-08  36.25  37.52  36.25  37.00  18031700      37.00\n",
        "2007-11-09  36.90  37.95  36.90  37.57   5043000      37.57\n",
        "2007-11-12  37.57  38.10  37.19  37.52   8279200      37.52\n",
        "2007-11-13  37.60  39.49  37.59  39.01   4356100      39.01\n",
        "2007-11-14  39.15  39.15  38.00  38.12   5983000      38.12\n",
        "MEXCHEM.MX"
       ]
      },
      {
       "output_type": "stream",
       "stream": "stdout",
       "text": [
        "\n",
        "            Open  High  Low  Close  Volume  Adj Close\n",
        "Date                                                 \n",
        "2000-01-03   4.2   4.2  4.2    4.2   60000       1.28\n",
        "2000-01-04   4.0   4.0  4.0    4.0   33000       1.22\n",
        "2000-01-05   4.2   4.2  4.2    4.2    3000       1.28\n",
        "2000-01-06   4.0   4.2  4.0    4.2  102000       1.28\n",
        "2000-01-07   4.2   4.2  4.2    4.2   45000       1.28\n",
        "MINSAB.MX"
       ]
      },
      {
       "output_type": "stream",
       "stream": "stdout",
       "text": [
        "\n",
        "            Open  High   Low  Close  Volume  Adj Close\n",
        "Date                                                  \n",
        "2000-01-04  4.80  4.80  4.80   4.80    1000       4.47\n",
        "2000-01-05  4.80  4.80  4.80   4.80       0       4.47\n",
        "2000-01-06  4.80  4.80  4.80   4.80       0       4.47\n",
        "2000-01-07  4.65  4.75  4.65   4.75   24000       4.43\n",
        "2000-01-10  4.75  4.75  4.75   4.75    5000       4.43\n",
        "MONEXB.MX"
       ]
      },
      {
       "output_type": "stream",
       "stream": "stdout",
       "text": [
        "\n",
        "            Open  High   Low  Close  Volume  Adj Close\n",
        "Date                                                  \n",
        "2010-12-15  19.5  19.5  19.5   19.5    1000      16.43\n",
        "2010-12-16  19.1  19.1  19.1   19.1    4000      16.09\n",
        "2010-12-17  19.5  19.5  19.5   19.5    2900      16.43\n",
        "2011-01-07  19.7  19.7  19.7   19.7     100      16.60\n",
        "2011-01-26  19.5  19.5  19.5   19.5    2600      16.43\n",
        "OHLMEX.MX"
       ]
      },
      {
       "output_type": "stream",
       "stream": "stdout",
       "text": [
        "\n",
        "             Open   High    Low  Close    Volume  Adj Close\n",
        "Date                                                       \n",
        "2010-11-11  26.00  26.00  23.76  24.01  43135500      24.01\n",
        "2010-11-12  24.00  24.30  23.87  24.19  12509400      24.19\n",
        "2010-11-16  24.15  24.20  23.95  23.95   8018700      23.95\n",
        "2010-11-17  24.00  24.20  23.85  24.20   4509400      24.20\n",
        "2010-11-18  24.30  24.49  24.29  24.45   3716600      24.45\n",
        "OMAB.MX"
       ]
      },
      {
       "output_type": "stream",
       "stream": "stdout",
       "text": [
        "\n",
        "             Open   High    Low  Close   Volume  Adj Close\n",
        "Date                                                      \n",
        "2006-11-30  29.10  29.65  28.69  29.44  8167100      25.39\n",
        "2006-12-04  29.60  30.00  29.50  29.98  3651400      25.85\n",
        "2006-12-05  29.98  29.99  29.47  29.73  3899200      25.64\n",
        "2006-12-06  29.68  29.68  29.20  29.30  3222300      25.27\n",
        "2006-12-07  29.30  29.75  29.30  29.70  3428200      25.61\n",
        "PAPPEL.MX"
       ]
      },
      {
       "output_type": "stream",
       "stream": "stdout",
       "text": [
        "\n",
        "             Open   High    Low  Close  Volume  Adj Close\n",
        "Date                                                     \n",
        "2002-03-06  27.60  27.60  17.34  17.34       0      17.34\n",
        "2002-03-07  27.60  27.60  17.34  17.34       0      17.34\n",
        "2002-03-08  24.00  24.00  17.34  17.34       0      17.34\n",
        "2002-03-11  27.60  27.60  17.34  17.34       0      17.34\n",
        "2002-03-12  17.34  17.34  17.34  17.34     500      17.34\n",
        "PASAB.MX"
       ]
      },
      {
       "output_type": "stream",
       "stream": "stdout",
       "text": [
        "\n",
        "             Open   High    Low  Close   Volume  Adj Close\n",
        "Date                                                      \n",
        "2005-11-11  21.00  21.00  20.55  20.99  3191200      20.99\n",
        "2005-11-14  20.70  20.90  20.70  20.85   304100      20.85\n",
        "2005-11-16  20.55  20.85  20.40  20.82   913900      20.82\n",
        "2005-11-17  20.86  20.86  20.21  20.66   160300      20.66\n",
        "2005-11-18  20.34  20.34  20.10  20.29   436000      20.29\n",
        "PINFRA.MX"
       ]
      },
      {
       "output_type": "stream",
       "stream": "stdout",
       "text": [
        "\n",
        "            Open  High   Low  Close  Volume  Adj Close\n",
        "Date                                                  \n",
        "2000-01-03  2.14  2.14  2.02   2.02       0       2.02\n",
        "2000-01-04  2.00  2.00  2.00   2.00   21000       2.00\n",
        "2000-01-05  2.00  2.15  2.00   2.15  214000       2.15\n",
        "2000-01-06  2.28  2.40  2.28   2.39  219000       2.39\n",
        "2000-01-07  2.40  2.45  2.40   2.44   38000       2.44\n",
        "POCHTECB.MX"
       ]
      },
      {
       "output_type": "stream",
       "stream": "stdout",
       "text": [
        "\n",
        "            Open  High   Low  Close  Volume  Adj Close\n",
        "Date                                                  \n",
        "2008-01-10  1.35  1.41  1.35   1.41    2200       7.05\n",
        "2008-01-11  1.40  1.41  1.30   1.38   22800       6.90\n",
        "2008-01-14  1.20  1.30  1.20   1.30    5300       6.50\n",
        "2008-01-15  1.25  1.29  1.22   1.29   21100       6.45\n",
        "2008-01-16  1.29  1.29  1.22   1.22    2500       6.10\n",
        "POSADASA.MX"
       ]
      },
      {
       "output_type": "stream",
       "stream": "stdout",
       "text": [
        "\n",
        "            Open  High  Low  Close  Volume  Adj Close\n",
        "Date                                                 \n",
        "2000-03-13   5.2   5.2  5.2    5.2       0       4.95\n",
        "2000-03-21   5.4   5.4  5.4    5.4       0       5.14\n",
        "2000-04-20   6.2   6.2  6.2    6.2       0       5.91\n",
        "2000-04-21   6.2   6.2  6.2    6.2       0       5.91\n",
        "2000-05-01   6.2   6.2  6.2    6.2       0       5.91\n",
        "PROCORPB.MX"
       ]
      },
      {
       "output_type": "stream",
       "stream": "stdout",
       "text": [
        "\n",
        "            Open  High   Low  Close  Volume  Adj Close\n",
        "Date                                                  \n",
        "2008-05-30  8.65  8.65  8.65   8.65     300       8.65\n",
        "2008-06-02  8.65  8.65  8.65   8.65       0       8.65\n",
        "2008-06-03  8.65  8.65  8.65   8.65       0       8.65\n",
        "2008-06-04  8.65  8.65  8.65   8.65       0       8.65\n",
        "2008-06-05  8.65  8.65  8.65   8.65       0       8.65\n",
        "QBINDUSA.MX"
       ]
      },
      {
       "output_type": "stream",
       "stream": "stdout",
       "text": [
        "\n",
        "            Open  High  Low  Close  Volume  Adj Close\n",
        "Date                                                 \n",
        "2009-02-23   2.6   2.6  2.6    2.6       0        2.6\n",
        "2009-02-24   2.6   2.6  2.6    2.6       0        2.6\n",
        "2009-02-25   2.6   2.6  2.6    2.6       0        2.6\n",
        "2009-02-26   2.6   2.6  2.6    2.6       0        2.6\n",
        "2009-02-27   2.6   2.6  2.6    2.6       0        2.6\n",
        "QUMMAB.MX"
       ]
      },
      {
       "output_type": "stream",
       "stream": "stdout",
       "text": [
        "\n",
        "            Open  High   Low  Close  Volume  Adj Close\n",
        "Date                                                  \n",
        "2009-02-23  0.18  0.18  0.18   0.18       0       0.18\n",
        "2009-02-24  0.18  0.18  0.18   0.18       0       0.18\n",
        "2009-02-25  0.18  0.18  0.18   0.18       0       0.18\n",
        "2009-02-26  0.18  0.18  0.18   0.18       0       0.18\n",
        "2009-02-27  0.18  0.18  0.18   0.18       0       0.18\n",
        "RCENTROA.MX"
       ]
      },
      {
       "output_type": "stream",
       "stream": "stdout",
       "text": [
        "\n",
        "            Open  High  Low  Close  Volume  Adj Close\n",
        "Date                                                 \n",
        "2003-06-30   6.2   6.2  6.2    6.2       0       5.13\n",
        "2003-07-01   6.1   6.1  6.1    6.1   50000       5.05\n",
        "2003-07-02   7.5   7.5  7.5    7.5       0       6.21\n",
        "2003-07-03   7.5   7.5  7.5    7.5       0       6.21\n",
        "2003-07-04   7.5   7.5  6.1    6.1       0       5.05\n",
        "REALTURA.MX"
       ]
      },
      {
       "output_type": "stream",
       "stream": "stdout",
       "text": [
        "\n",
        "            Open  High  Low  Close  Volume  Adj Close\n",
        "Date                                                 \n",
        "2009-02-23   3.4   3.4  3.4    3.4       0        3.4\n",
        "2009-02-24   3.4   3.4  3.4    3.4       0        3.4\n",
        "2009-02-25   3.4   3.4  3.4    3.4       0        3.4\n",
        "2009-02-26   3.4   3.4  3.4    3.4       0        3.4\n",
        "2009-02-27   3.4   3.4  3.4    3.4       0        3.4\n",
        "SAB.MX"
       ]
      },
      {
       "output_type": "stream",
       "stream": "stdout",
       "text": [
        "\n",
        "            Open  High   Low  Close  Volume  Adj Close\n",
        "Date                                                  \n",
        "2000-01-03  8.30  8.30  8.10   8.10  153000       7.68\n",
        "2000-01-04  8.00  8.00  8.00   8.00    5000       7.59\n",
        "2000-01-05  8.00  8.12  7.98   8.10  104000       7.68\n",
        "2000-01-06  8.12  8.40  8.12   8.30   40000       7.87\n",
        "2000-01-07  8.30  8.50  8.30   8.34  232000       7.91\n",
        "SANMEXB.MX"
       ]
      },
      {
       "output_type": "stream",
       "stream": "stdout",
       "text": [
        "\n",
        "            Open  High  Low  Close  Volume  Adj Close\n",
        "Date                                                 \n",
        "2000-01-03  4.40  4.40  4.4    4.4    8000       3.56\n",
        "2000-01-04  4.50  4.50  3.0    3.0       0       2.43\n",
        "2000-01-05  4.35  4.35  4.2    4.2       0       3.40\n",
        "2000-01-06  4.50  4.50  4.3    4.3       0       3.48\n",
        "2000-01-07  4.40  4.40  4.4    4.4   20000       3.56\n",
        "SANLUISA.MX"
       ]
      },
      {
       "output_type": "stream",
       "stream": "stdout",
       "text": [
        "\n",
        "             Open   High   Low  Close  Volume  Adj Close\n",
        "Date                                                    \n",
        "2000-01-12  17.80  17.80  12.5   12.5       0       12.5\n",
        "2000-01-13  17.76  17.76  12.0   12.0       0       12.0\n",
        "2000-01-18  18.00  18.00  18.0   18.0       0       18.0\n",
        "2000-01-19  18.00  18.00  18.0   18.0       0       18.0\n",
        "2000-01-20  18.00  18.00  18.0   18.0       0       18.0\n",
        "SANMEXB.MX"
       ]
      },
      {
       "output_type": "stream",
       "stream": "stdout",
       "text": [
        "\n",
        "            Open  High  Low  Close  Volume  Adj Close\n",
        "Date                                                 \n",
        "2000-01-03  4.40  4.40  4.4    4.4    8000       3.56\n",
        "2000-01-04  4.50  4.50  3.0    3.0       0       2.43\n",
        "2000-01-05  4.35  4.35  4.2    4.2       0       3.40\n",
        "2000-01-06  4.50  4.50  4.3    4.3       0       3.48\n",
        "2000-01-07  4.40  4.40  4.4    4.4   20000       3.56\n",
        "SAREB.MX"
       ]
      },
      {
       "output_type": "stream",
       "stream": "stdout",
       "text": [
        "\n",
        "            Open  High   Low  Close  Volume  Adj Close\n",
        "Date                                                  \n",
        "2003-12-22  5.90  5.90  5.90   5.90       0       5.90\n",
        "2003-12-24  5.99  5.99  5.80   5.80       0       5.80\n",
        "2003-12-26  5.99  5.99  5.99   5.99       0       5.99\n",
        "2003-12-30  6.00  6.00  5.50   5.50       0       5.50\n",
        "2003-12-31  5.99  5.99  5.50   5.50       0       5.50\n",
        "SIMECB.MX"
       ]
      },
      {
       "output_type": "stream",
       "stream": "stdout",
       "text": [
        "\n",
        "            Open  High   Low  Close  Volume  Adj Close\n",
        "Date                                                  \n",
        "2000-02-23  1.96  1.96  1.90   1.90       0      12.67\n",
        "2000-03-13  1.82  1.82  1.82   1.82       0      12.13\n",
        "2000-03-21  2.06  2.06  2.06   2.06       0      13.73\n",
        "2000-04-20  2.05  2.05  2.05   2.05       0      13.67\n",
        "2000-04-21  2.05  2.05  2.05   2.05       0      13.67\n",
        "SORIANAB.MX"
       ]
      },
      {
       "output_type": "stream",
       "stream": "stdout",
       "text": [
        "\n",
        "            Open   High   Low  Close   Volume  Adj Close\n",
        "Date                                                    \n",
        "2000-01-03  43.9  44.20  42.3  42.75   648000      14.07\n",
        "2000-01-04  41.8  41.80  39.0  40.05  1713000      13.19\n",
        "2000-01-05  39.8  40.50  38.5  40.20  1530000      13.23\n",
        "2000-01-06  40.0  40.35  38.8  39.40  1152000      12.97\n",
        "2000-01-07  39.3  42.20  39.3  42.00  3192000      13.83\n",
        "TEAKCPO.MX"
       ]
      },
      {
       "output_type": "stream",
       "stream": "stdout",
       "text": [
        "\n",
        "             Open   High    Low  Close  Volume  Adj Close\n",
        "Date                                                     \n",
        "2010-12-21  11.50  11.50  11.00  11.50     200      11.50\n",
        "2010-12-23  11.80  11.80  11.80  11.80     100      11.80\n",
        "2010-12-27  12.00  12.00  11.80  12.00     200      12.00\n",
        "2010-12-28  12.50  12.50  12.50  12.50     100      12.50\n",
        "2010-12-29  12.55  12.55  12.55  12.55     900      12.55\n",
        "TEKCHEMA.MX"
       ]
      },
      {
       "output_type": "stream",
       "stream": "stdout",
       "text": [
        "\n",
        "            Open  High   Low  Close  Volume  Adj Close\n",
        "Date                                                  \n",
        "2000-01-03  5.16  5.16  5.16   5.16   12700       51.6\n",
        "2000-01-04  4.70  4.70  4.45   4.60   13500       46.0\n",
        "2000-01-05  5.00  5.00  4.45   4.45       0       44.5\n",
        "2000-01-06  4.60  4.60  4.60   4.60     200       46.0\n",
        "2000-01-07  4.70  4.90  4.70   4.90     400       49.0\n",
        "TLEVISACPO.MX"
       ]
      },
      {
       "output_type": "stream",
       "stream": "stdout",
       "text": [
        "\n",
        "            Open  High   Low  Close  Volume  Adj Close\n",
        "Date                                                  \n",
        "2000-03-21  33.1  33.1  33.1   33.1       0      31.69\n",
        "2000-04-20  27.2  27.2  27.2   27.2       0      26.04\n",
        "2000-04-21  27.2  27.2  27.2   27.2       0      26.04\n",
        "2000-05-01  29.2  29.2  29.2   29.2       0      27.96\n",
        "2000-05-05  28.4  28.4  28.4   28.4       0      27.19\n",
        "TMMA.MX"
       ]
      },
      {
       "output_type": "stream",
       "stream": "stdout",
       "text": [
        "\n",
        "            Open  High  Low  Close  Volume  Adj Close\n",
        "Date                                                 \n",
        "2002-01-07    89    89   89     89       0         89\n",
        "2002-01-08    89    89   89     89       0         89\n",
        "2002-01-09    89    89   89     89       0         89\n",
        "2002-01-10    89    89   89     89       0         89\n",
        "2002-01-11    89    89   89     89       0         89\n",
        "TS.MX"
       ]
      },
      {
       "output_type": "stream",
       "stream": "stdout",
       "text": [
        "\n",
        "             Open   High    Low  Close   Volume  Adj Close\n",
        "Date                                                      \n",
        "2002-12-17  18.50  18.71  18.13  18.13   473600      17.93\n",
        "2002-12-18  18.00  18.00  17.85  17.85    16000      17.65\n",
        "2002-12-19  17.85  18.28  17.85  18.28  1324000      18.08\n",
        "2002-12-20  18.40  19.30  18.40  19.00   321500      18.79\n",
        "2002-12-23  19.00  19.30  19.00  19.30   112700      19.09\n",
        "URBI.MX"
       ]
      },
      {
       "output_type": "stream",
       "stream": "stdout",
       "text": [
        "\n",
        "             Open  High    Low  Close   Volume  Adj Close\n",
        "Date                                                     \n",
        "2004-05-11  32.50  32.8  32.28  32.41  4892400      10.80\n",
        "2004-05-12  32.40  32.6  32.38  32.50  3658200      10.83\n",
        "2004-05-13  32.50  33.0  32.50  32.80  2460600      10.93\n",
        "2004-05-14  32.80  33.5  32.80  33.50  2762400      11.17\n",
        "2004-05-17  33.42  33.5  33.13  33.50  3753900      11.17\n",
        "VALUEGFO.MX"
       ]
      },
      {
       "output_type": "stream",
       "stream": "stdout",
       "text": [
        "\n",
        "            Open  High   Low  Close  Volume  Adj Close\n",
        "Date                                                  \n",
        "2000-01-12  1.22  1.22  1.22   1.22    1000       0.88\n",
        "2000-01-13  1.22  1.22  1.22   1.22       0       0.88\n",
        "2000-01-14  1.22  1.22  1.22   1.22       0       0.88\n",
        "2000-01-17  1.22  1.22  1.22   1.22       0       0.88\n",
        "2000-01-18  1.22  1.22  1.22   1.22       0       0.88\n",
        "VASCONI.MX"
       ]
      },
      {
       "output_type": "stream",
       "stream": "stdout",
       "text": [
        "\n",
        "            Open  High   Low  Close  Volume  Adj Close\n",
        "Date                                                  \n",
        "2007-12-27  7.07  7.07  7.07   7.07     100       6.63\n",
        "2008-01-08  7.05  7.05  7.05   7.05     500       6.61\n",
        "2008-01-28  6.90  6.94  6.90   6.94    1500       6.51\n",
        "2008-02-13  6.94  6.94  6.94   6.94     200       6.51\n",
        "2008-02-14  6.94  7.00  6.94   7.00    5600       6.57\n",
        "VITROA.MX"
       ]
      },
      {
       "output_type": "stream",
       "stream": "stdout",
       "text": [
        "\n",
        "             Open   High    Low  Close  Volume  Adj Close\n",
        "Date                                                     \n",
        "2000-03-13  12.50  12.50  12.50  12.50       0      12.23\n",
        "2000-03-21  13.06  13.06  13.06  13.06       0      12.78\n",
        "2000-04-20  11.68  11.68  11.68  11.68       0      11.43\n",
        "2000-04-21  11.68  11.68  11.68  11.68       0      11.43\n",
        "2000-05-01  11.72  11.72  11.72  11.72       0      11.47\n",
        "WALMEXV.MX"
       ]
      },
      {
       "output_type": "stream",
       "stream": "stdout",
       "text": [
        "\n",
        "             Open   High    Low  Close  Volume  Adj Close\n",
        "Date                                                     \n",
        "2003-01-01  23.20  24.10  23.20  23.83       0       5.39\n",
        "2003-01-02  23.20  24.10  23.20  23.83       0       5.39\n",
        "2003-01-03  23.80  23.95  23.71  23.80       0       5.39\n",
        "2003-01-06  23.80  24.79  23.80  24.74       0       5.60\n",
        "2003-01-07  24.74  24.74  24.12  24.17       0       5.47\n"
       ]
      }
     ],
     "prompt_number": 5
    },
    {
     "cell_type": "code",
     "collapsed": false,
     "input": [],
     "language": "python",
     "metadata": {},
     "outputs": []
    }
   ],
   "metadata": {}
  }
 ]
}