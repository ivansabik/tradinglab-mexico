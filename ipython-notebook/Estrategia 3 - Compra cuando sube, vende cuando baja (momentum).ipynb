{
 "metadata": {
  "name": "",
  "signature": "sha256:a2696670ad03d6f7be62f05bf4ff43261600ca644dccaea37c947ceac37f2eb3"
 },
 "nbformat": 3,
 "nbformat_minor": 0,
 "worksheets": [
  {
   "cells": [
    {
     "cell_type": "markdown",
     "metadata": {},
     "source": [
      "### Estrategia 3 - Compra cuando sube, vende cuando baja (momentum)"
     ]
    },
    {
     "cell_type": "code",
     "collapsed": false,
     "input": [],
     "language": "python",
     "metadata": {},
     "outputs": []
    }
   ],
   "metadata": {}
  }
 ]
}