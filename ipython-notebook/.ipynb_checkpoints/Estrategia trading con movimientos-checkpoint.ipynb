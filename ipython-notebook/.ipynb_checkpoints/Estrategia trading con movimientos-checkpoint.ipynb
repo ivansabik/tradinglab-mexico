{
 "metadata": {
  "name": "",
  "signature": "sha256:55238f47e731d03e2372f6be8e7f890fbf955c589cd9ec8d39bef54e8036ff33"
 },
 "nbformat": 3,
 "nbformat_minor": 0,
 "worksheets": []
}