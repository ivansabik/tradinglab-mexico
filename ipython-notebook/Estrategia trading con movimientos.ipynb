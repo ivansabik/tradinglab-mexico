{
 "metadata": {
  "name": "",
  "signature": "sha256:01156008648bcfd23f4f57cbe19fd525450a12a08f439a2562aeecf185832a1a"
 },
 "nbformat": 3,
 "nbformat_minor": 0,
 "worksheets": [
  {
   "cells": [
    {
     "cell_type": "code",
     "collapsed": false,
     "input": [
      "# Movimiento de trading\n",
      "class MovimientoTrading:\n",
      "    is_compra = ''\n",
      "    num_acciones = ''\n",
      "    emisora = ''\n",
      "    fecha = ''\n",
      "\n",
      "# Estrategia\n",
      "# Comprar ALSEA, vender todas en dos a\u00f1os\n",
      "# Comprar KOF mantener\n",
      "# Comprar 500 GFNORTE vender s\u00f3lo 50 en un a\u00f1o\n",
      "movimientos = []\n",
      "\n",
      "movimiento = MovimientoTrading()\n",
      "movimiento.is_compra = True\n",
      "movimiento.num_acciones = 500\n",
      "movimiento.emisora = 'ALSEA.MX'\n",
      "movimiento.fecha = datetime(2010, 3, 1)\n",
      "movimientos.append(movimiento)\n",
      "\n",
      "movimiento = MovimientoTrading()\n",
      "movimiento.is_compra = False\n",
      "movimiento.num_acciones = 500\n",
      "movimiento.emisora = 'ALSEA.MX'\n",
      "movimiento.fecha = datetime(2013, 3, 1)\n",
      "movimientos.append(movimiento)\n",
      "\n",
      "movimiento = MovimientoTrading()\n",
      "movimiento.is_compra = True\n",
      "movimiento.num_acciones = 500\n",
      "movimiento.emisora = 'KOFL.MX'\n",
      "movimiento.fecha = datetime(2011, 2, 5)\n",
      "movimientos.append(movimiento)\n",
      "\n",
      "movimiento = MovimientoTrading()\n",
      "movimiento.is_compra = True\n",
      "movimiento.num_acciones = 500\n",
      "movimiento.emisora = 'GFNORTEO.MX'\n",
      "movimiento.fecha = datetime(2011, 8, 8)\n",
      "movimientos.append(movimiento)\n",
      "\n",
      "movimiento = MovimientoTrading()\n",
      "movimiento.is_compra = False\n",
      "movimiento.num_acciones = 50\n",
      "movimiento.emisora = 'GFNORTEO.MX'\n",
      "movimiento.fecha = datetime(2012, 8, 8)\n",
      "movimientos.append(movimiento)\n",
      "\n",
      "for movimiento in movimientos:\n",
      "    print movimiento.emisora\n",
      "    print '--------'\n",
      "    print movimiento.is_compra\n",
      "    print movimiento.num_acciones\n",
      "    print movimiento.fecha\n",
      "    print '\\n'"
     ],
     "language": "python",
     "metadata": {},
     "outputs": [
      {
       "output_type": "stream",
       "stream": "stdout",
       "text": [
        "ALSEA.MX\n",
        "--------\n",
        "True\n",
        "500\n",
        "2010-03-01 00:00:00\n",
        "\n",
        "\n",
        "ALSEA.MX\n",
        "--------\n",
        "False\n",
        "500\n",
        "2013-03-01 00:00:00\n",
        "\n",
        "\n",
        "KOFL.MX\n",
        "--------\n",
        "True\n",
        "500\n",
        "2011-02-05 00:00:00\n",
        "\n",
        "\n",
        "GFNORTEO.MX\n",
        "--------\n",
        "True\n",
        "500\n",
        "2011-08-08 00:00:00\n",
        "\n",
        "\n",
        "GFNORTEO.MX\n",
        "--------\n",
        "False\n",
        "50\n",
        "2012-08-08 00:00:00\n",
        "\n",
        "\n"
       ]
      }
     ],
     "prompt_number": 37
    },
    {
     "cell_type": "code",
     "collapsed": false,
     "input": [
      "%matplotlib inline\n",
      "import matplotlib.pyplot as plt\n",
      "import matplotlib as mpl\n",
      "\n",
      "class CompraVenta(zp.TradingAlgorithm):   \n",
      "    def initialize(self, movimientos):\n",
      "        self.movimientos = movimientos\n",
      "        fechas = []\n",
      "        emisoras = set()\n",
      "        for movimiento in movimientos:\n",
      "            fechas.append(movimiento.fecha)\n",
      "            emisoras.add(movimiento.emisora)\n",
      "        emisoras = list(emisoras)\n",
      "        fecha_inicio = min(fechas)\n",
      "        fecha_fin = max(fechas)\n",
      "        self.data = zp.utils.factory.load_from_yahoo(stocks=emisoras, indexes={}, start=fecha_inicio, end=fecha_fin, adjusted=False)    \n",
      "\n",
      "    def handle_data(self, data):\n",
      "        fecha = data['ALSEA.MX'].dt\n",
      "        # Buy primo, buy\n",
      "        if(fecha.day == dia_compra and fecha.month == mes_compra and fecha.year == anio_compra):\n",
      "            self.order('ALSEA.MX', num_acciones)\n",
      "        # Sell primo, sell\n",
      "        elif(fecha.day == dia_venta and fecha.month == mes_venta and fecha.year == anio_venta):\n",
      "            self.order('ALSEA.MX', -num_acciones)\n",
      "\n",
      "trading = CompraVenta(movimientos)\n",
      "data = trading.data\n",
      "perf = trading.run(data)\n",
      "\n",
      "perf['portfolio_value'].plot()\n",
      "print perf['portfolio_value']"
     ],
     "language": "python",
     "metadata": {},
     "outputs": [
      {
       "output_type": "stream",
       "stream": "stderr",
       "text": [
        "[2014-09-11 16:32] INFO: Performance: Simulated 757 trading days out of 757.\n"
       ]
      },
      {
       "output_type": "stream",
       "stream": "stderr",
       "text": [
        "[2014-09-11 16:32] INFO: Performance: first open: 2010-03-01 14:31:00+00:00\n"
       ]
      },
      {
       "output_type": "stream",
       "stream": "stderr",
       "text": [
        "[2014-09-11 16:32] INFO: Performance: last close: 2013-03-01 21:00:00+00:00\n"
       ]
      },
      {
       "output_type": "stream",
       "stream": "stdout",
       "text": [
        "2010-03-01 00:00:00 2013-03-01 00:00:00\n",
        "ALSEA.MX\n",
        "KOFL.MX\n",
        "GFNORTEO.MX\n",
        "2010-03-01 21:00:00    100000.000000\n",
        "2010-03-02 21:00:00     99999.969999\n",
        "2010-03-03 21:00:00    100000.359999\n",
        "2010-03-04 21:00:00    100000.399999\n",
        "2010-03-05 21:00:00    100000.619999\n",
        "2010-03-08 21:00:00    100000.669999\n",
        "2010-03-09 21:00:00    100000.479999\n",
        "2010-03-10 21:00:00    100000.459999\n",
        "2010-03-11 21:00:00    100000.459999\n",
        "2010-03-12 21:00:00    100000.509999\n",
        "2010-03-15 20:00:00    100000.579999\n",
        "2010-03-16 20:00:00    100000.659999\n",
        "2010-03-17 20:00:00    100000.599999\n",
        "2010-03-18 20:00:00    100000.879999\n",
        "2010-03-19 20:00:00    100000.949999\n",
        "...\n",
        "2013-02-08 21:00:00    100016.769999\n",
        "2013-02-11 21:00:00    100017.239999\n",
        "2013-02-12 21:00:00    100017.649999\n",
        "2013-02-13 21:00:00    100017.479999\n",
        "2013-02-14 21:00:00    100018.159999\n",
        "2013-02-15 21:00:00    100018.459999\n",
        "2013-02-19 21:00:00    100018.009999\n",
        "2013-02-20 21:00:00    100017.609999\n",
        "2013-02-21 21:00:00    100018.069999\n",
        "2013-02-22 21:00:00    100019.279999\n",
        "2013-02-25 21:00:00    100019.279999\n",
        "2013-02-26 21:00:00    100019.339999\n",
        "2013-02-27 21:00:00    100020.399999\n",
        "2013-02-28 21:00:00    100020.449999\n",
        "2013-03-01 21:00:00    100020.719999\n",
        "Name: portfolio_value, Length: 757"
       ]
      },
      {
       "output_type": "stream",
       "stream": "stdout",
       "text": [
        "\n"
       ]
      },
      {
       "metadata": {},
       "output_type": "display_data",
       "png": "[encoded data removed]",
       "text": [
        "<matplotlib.figure.Figure at 0xb539526c>"
       ]
      }
     ],
     "prompt_number": 48
    },
    {
     "cell_type": "code",
     "collapsed": false,
     "input": [],
     "language": "python",
     "metadata": {},
     "outputs": []
    }
   ],
   "metadata": {}
  }
 ]
}