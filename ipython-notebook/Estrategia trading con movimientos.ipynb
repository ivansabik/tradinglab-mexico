{
 "metadata": {
  "name": "",
  "signature": "sha256:3d99526489e2c4924d289902716c1a079bcf5d8841ff8ca23aa539fd71621289"
 },
 "nbformat": 3,
 "nbformat_minor": 0,
 "worksheets": [
  {
   "cells": [
    {
     "cell_type": "code",
     "collapsed": false,
     "input": [
      "from datetime import datetime\n",
      "\n",
      "# Movimiento de trading\n",
      "class MovimientoTrading:\n",
      "    num_acciones = ''\n",
      "    emisora = ''\n",
      "    fecha = ''\n",
      "\n",
      "# Estrategia\n",
      "# Comprar ALSEA, vender todas en dos a\u00f1os\n",
      "# Comprar KOF mantener\n",
      "# Comprar 500 GFNORTE vender s\u00f3lo 50 en un a\u00f1o\n",
      "movimientos = []\n",
      "\n",
      "movimiento = MovimientoTrading()\n",
      "movimiento.num_acciones = 500\n",
      "movimiento.emisora = 'ALSEA.MX'\n",
      "movimiento.fecha = datetime(2010, 3, 1)\n",
      "movimientos.append(movimiento)\n",
      "\n",
      "movimiento = MovimientoTrading()\n",
      "movimiento.num_acciones = -500\n",
      "movimiento.emisora = 'ALSEA.MX'\n",
      "movimiento.fecha = datetime(2013, 3, 1)\n",
      "movimientos.append(movimiento)\n",
      "\n",
      "movimiento = MovimientoTrading()\n",
      "movimiento.num_acciones = 500\n",
      "movimiento.emisora = 'KOFL.MX'\n",
      "movimiento.fecha = datetime(2011, 2, 5)\n",
      "movimientos.append(movimiento)\n",
      "\n",
      "movimiento = MovimientoTrading()\n",
      "movimiento.num_acciones = 500\n",
      "movimiento.emisora = 'GFNORTEO.MX'\n",
      "movimiento.fecha = datetime(2011, 8, 8)\n",
      "movimientos.append(movimiento)\n",
      "\n",
      "movimiento = MovimientoTrading()\n",
      "movimiento.num_acciones = -50\n",
      "movimiento.emisora = 'GFNORTEO.MX'\n",
      "movimiento.fecha = datetime(2012, 8, 8)\n",
      "movimientos.append(movimiento)\n",
      "\n",
      "for movimiento in movimientos:\n",
      "    print movimiento.emisora\n",
      "    print '--------'\n",
      "    print movimiento.num_acciones\n",
      "    print movimiento.fecha\n",
      "    print '\\n'"
     ],
     "language": "python",
     "metadata": {},
     "outputs": [
      {
       "output_type": "stream",
       "stream": "stdout",
       "text": [
        "ALSEA.MX\n",
        "--------\n",
        "500\n",
        "2010-03-01 00:00:00\n",
        "\n",
        "\n",
        "ALSEA.MX\n",
        "--------\n",
        "-500\n",
        "2013-03-01 00:00:00\n",
        "\n",
        "\n",
        "KOFL.MX\n",
        "--------\n",
        "500\n",
        "2011-02-05 00:00:00\n",
        "\n",
        "\n",
        "GFNORTEO.MX\n",
        "--------\n",
        "500\n",
        "2011-08-08 00:00:00\n",
        "\n",
        "\n",
        "GFNORTEO.MX\n",
        "--------\n",
        "-50\n",
        "2012-08-08 00:00:00\n",
        "\n",
        "\n"
       ]
      }
     ],
     "prompt_number": 11
    },
    {
     "cell_type": "code",
     "collapsed": false,
     "input": [
      "%matplotlib inline\n",
      "import matplotlib.pyplot as plt\n",
      "import matplotlib as mpl\n",
      "import zipline as zp\n",
      "\n",
      "class CompraVenta(zp.TradingAlgorithm):   \n",
      "    def initialize(self, movimientos):\n",
      "        self.movimientos = movimientos\n",
      "        fechas = []\n",
      "        emisoras = set()\n",
      "        for movimiento in movimientos:\n",
      "            fechas.append(movimiento.fecha)\n",
      "            emisoras.add(movimiento.emisora)\n",
      "        emisoras = list(emisoras)\n",
      "        fecha_inicio = min(fechas)\n",
      "        fecha_fin = max(fechas)\n",
      "        self.data = zp.utils.factory.load_from_yahoo(stocks=emisoras, indexes={}, start=fecha_inicio, end=fecha_fin, adjusted=False)    \n",
      "\n",
      "    def handle_data(self, data):\n",
      "        for movimiento in movimientos:\n",
      "            clave_emisora = movimiento.emisora\n",
      "            fecha_movimiento = movimiento.fecha\n",
      "            fecha = data[clave_emisora].dt\n",
      "            delta = fecha_movimiento - fecha.replace(tzinfo=None)\n",
      "            num_acciones = movimiento.num_acciones\n",
      "            if(delta.days == 0):\n",
      "                self.order(clave_emisora, num_acciones)\n",
      "\n",
      "trading = CompraVenta(movimientos)\n",
      "data = trading.data\n",
      "perf = trading.run(data)\n",
      "\n",
      "print perf['capital_used'].head()\n",
      "print perf['starting_cash'].head()\n",
      "print perf['ending_cash'].head()\n",
      "print perf['returns'].head()"
     ],
     "language": "python",
     "metadata": {},
     "outputs": [
      {
       "output_type": "stream",
       "stream": "stderr",
       "text": [
        "[2014-09-12 03:27] INFO: Performance: Simulated 757 trading days out of 757.\n"
       ]
      },
      {
       "output_type": "stream",
       "stream": "stderr",
       "text": [
        "[2014-09-12 03:27] INFO: Performance: first open: 2010-03-01 14:31:00+00:00\n"
       ]
      },
      {
       "output_type": "stream",
       "stream": "stderr",
       "text": [
        "[2014-09-12 03:27] INFO: Performance: last close: 2013-03-01 21:00:00+00:00\n"
       ]
      },
      {
       "output_type": "stream",
       "stream": "stdout",
       "text": [
        "ALSEA.MX\n",
        "KOFL.MX\n",
        "GFNORTEO.MX\n",
        "['capital_used', 'ending_cash', 'ending_value', 'orders', 'period_close', 'period_open', 'pnl', 'portfolio_value', 'positions', 'returns', 'starting_cash', 'starting_value', 'transactions']"
       ]
      },
      {
       "output_type": "stream",
       "stream": "stdout",
       "text": [
        "\n",
        "2010-03-01 21:00:00       0.000000\n",
        "2010-03-02 21:00:00   -2897.953125\n",
        "2010-03-03 21:00:00   -2996.062500\n",
        "2010-03-04 21:00:00       0.000000\n",
        "2010-03-05 21:00:00       0.000000\n",
        "Name: capital_used, dtype: float64\n",
        "2010-03-01 21:00:00    100000.000000\n",
        "2010-03-02 21:00:00    100000.000000\n",
        "2010-03-03 21:00:00     97102.046875\n",
        "2010-03-04 21:00:00     94105.984375\n",
        "2010-03-05 21:00:00     94105.984375\n",
        "Name: starting_cash, dtype: float64\n",
        "2010-03-01 21:00:00    100000.000000\n",
        "2010-03-02 21:00:00     97102.046875\n",
        "2010-03-03 21:00:00     94105.984375\n",
        "2010-03-04 21:00:00     94105.984375\n",
        "2010-03-05 21:00:00     94105.984375\n",
        "Name: ending_cash, dtype: float64\n",
        "2010-03-01 21:00:00    0.000000\n",
        "2010-03-02 21:00:00   -0.000255\n",
        "2010-03-03 21:00:00    0.000715\n",
        "2010-03-04 21:00:00    0.000200\n",
        "2010-03-05 21:00:00    0.001099\n",
        "Name: returns, dtype: float64\n"
       ]
      },
      {
       "metadata": {},
       "output_type": "display_data",
       "png": "[encoded data removed]",
       "text": [
        "<matplotlib.figure.Figure at 0xaedad62c>"
       ]
      }
     ],
     "prompt_number": 18
    },
    {
     "cell_type": "code",
     "collapsed": false,
     "input": [],
     "language": "python",
     "metadata": {},
     "outputs": []
    }
   ],
   "metadata": {}
  }
 ]
}