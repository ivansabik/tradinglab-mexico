{
 "metadata": {
  "name": "",
  "signature": "sha256:ae447cf02a2e0e30c1e820f8c95af76719dd964a3c0e1dd418419212afc27579"
 },
 "nbformat": 3,
 "nbformat_minor": 0,
 "worksheets": [
  {
   "cells": [
    {
     "cell_type": "markdown",
     "metadata": {},
     "source": [
      "### Estrategia 2 - Portafolio de mercado\n",
      "Ejemplo con un portafolio representativo del IPC"
     ]
    },
    {
     "cell_type": "code",
     "collapsed": false,
     "input": [
      "%matplotlib inline\n",
      "import pandas as pd\n",
      "import pandas.io.data\n",
      "import numpy as np\n",
      "import pytz\n",
      "from datetime import datetime\n",
      "import zipline as zp\n",
      "import matplotlib.pyplot as plt\n",
      "import matplotlib as mpl\n",
      "\n",
      "start = datetime(1997, 1, 1, 0, 0, 0, 0, pytz.utc)\n",
      "end = datetime(1998, 6, 1, 0, 0, 0, 0, pytz.utc)\n",
      "data = zp.utils.factory.load_from_yahoo(stocks=['^MXX', 'KO'], indexes={},\n",
      "                                        start=start, end=end, adjusted=True)"
     ],
     "language": "python",
     "metadata": {},
     "outputs": []
    },
    {
     "cell_type": "code",
     "collapsed": false,
     "input": [
      "data[['PEP', 'KO']].plot()\n",
      "plt.ylabel('price')\n",
      "\n",
      "plt.figure()\n",
      "integrated = data.PEP - data.KO\n",
      "integrated.plot()\n",
      "plt.ylabel('combined price')\n",
      "plt.axhline(integrated.mean())"
     ],
     "language": "python",
     "metadata": {},
     "outputs": []
    },
    {
     "cell_type": "code",
     "collapsed": false,
     "input": [],
     "language": "python",
     "metadata": {},
     "outputs": []
    }
   ],
   "metadata": {}
  }
 ]
}