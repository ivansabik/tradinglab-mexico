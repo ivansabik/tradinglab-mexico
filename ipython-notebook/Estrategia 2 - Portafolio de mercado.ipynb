{
 "metadata": {
  "name": "",
  "signature": "sha256:14a94286c9d692bcf6fa7d7e6dd1febf6f7452c8da9ddaf6f70f99a3c3a146f5"
 },
 "nbformat": 3,
 "nbformat_minor": 0,
 "worksheets": [
  {
   "cells": [
    {
     "cell_type": "markdown",
     "metadata": {},
     "source": [
      "### Estrategia 2 - Portafolio de mercado\n",
      "Ejemplo con un portafolio representativo del IPC"
     ]
    },
    {
     "cell_type": "code",
     "collapsed": false,
     "input": [],
     "language": "python",
     "metadata": {},
     "outputs": []
    }
   ],
   "metadata": {}
  }
 ]
}