{
 "metadata": {
  "name": "",
  "signature": "sha256:241ed7dd616599f6df9f7bd35bb4edc54e2b2867f933310ee335a61c71daca6f"
 },
 "nbformat": 3,
 "nbformat_minor": 0,
 "worksheets": [
  {
   "cells": [
    {
     "cell_type": "code",
     "collapsed": false,
     "input": [
      "import datetime\n",
      "import pandas as pd\n",
      "import pandas.io.data\n",
      "\n",
      "empresas = pd.read_csv('empresas_bmv.csv')\n",
      "empresas = list(empresas['clave_yahoo'].values)\n",
      "\n",
      "print empresas"
     ],
     "language": "python",
     "metadata": {},
     "outputs": [
      {
       "output_type": "stream",
       "stream": "stdout",
       "text": [
        "['AC.MX', 'ACCELSAB.MX', 'ACTINVRB.MX', 'AEROMEX.MX', 'AHMSA.MX', 'ALFAA.MX', 'ALSEA.MX', 'AMXA.MX', 'ARA.MX', 'ARISTOSA.MX', 'ASURB.MX', 'AUTLANB.MX', 'AXTELCPO.MX', 'AZTECACPO.MX', 'BACHOCOB.MX', 'BAFARB.MX', 'BBVA.MX', 'BEVIDESB.MX', 'BIMBOA.MX', 'BOLSAA.MX', 'C.MX', 'CABLECPO.MX', 'CEMEXCPO.MX', 'CERAMICB.MX', 'CHDRAUIB.MX', 'CIDMEGA.MX', 'CIEB.MX', 'CMOCTEZ.MX', 'CMRB.MX', 'COLLADO.MX', 'COMERCIUBC.MX', 'CONVERA.MX', 'CULTIBAB.MX', 'CYDSASAA.MX', 'DINEB.MX', 'EDOARDOB.MX', 'ELEKTRA.MX', 'FEMSAUBD.MX', 'FINAMEXO.MX', 'FINDEP.MX', 'FRAGUAB.MX', 'FRES.MX', 'GAPB.MX', 'GBM.MX', 'GCARSO.MX', 'GCC.MX', 'GENSEG.MX', 'GENTERA.MX', 'GEO.MX', 'GFAMSA.MX', 'GFINBUR.MX', 'GFINTER.MX', 'GFMULTI.MX', 'GFNORTE.MX', 'GFREGIO.MX', 'GIGANTE.MX', 'GISSA.MX', 'GMACMA.MX', 'GMD.MX', 'GMEXICO.MX', 'GMODELO.MX', 'GNP.MX', 'GOMO.MX', 'GPH.MX', 'GPROFUT.MX', 'GRUMA.MX', 'GSANBOR.MX', 'HCITY.MX', 'HERDEZ.MX', 'HILASAL.MX', 'HOGAR.MX', 'HOMEX.MX', 'IASASA.MX', 'ICA.MX', 'ICH.MX', 'IDEAL.MX', 'IENOVA.MX', 'INCARSO.MX', 'INVEX.MX', 'KIMBER.MX', 'KOF.MX', 'KUO.MX', 'LAB.MX', 'LALA.MX', 'LAMOSA.MX', 'LASEG.MX', 'LIVEPOL.MX', 'MASECA.MX', 'MAXCOM.MX', 'MEDICA.MX', 'MEGA.MX', 'MEXCHEM.MX', 'MFRISCO.MX', 'MINSA.MX', 'MONEX.MX', 'OHLMEX.MX', 'OMA.MX', 'PAPPEL.MX', 'PASA.MX', 'PE&OLES.MX', 'PINFRA.MX', 'POCHTEC.MX', 'POSADAS.MX', 'PROCORP.MX', 'PV.MX', 'QBINDUS.MX', 'QC.MX', 'QUMMA.MX', 'RCENTRO.MX', 'REALTUR.MX', 'SAB.MX', 'SAN.MX', 'SANLUIS.MX', 'SANMEX.MX', 'SARE.MX', 'SAVIA.MX', 'SIMEC.MX', 'SORIANA.MX', 'SPORT.MX', 'TEAK.MX', 'TEKCHEM.MX', 'TERRA.MX', 'TLEVISA.MX', 'TMM.MX', 'TS.MX', 'URBI.MX', 'VALUEGF.MX', 'VASCONI.MX', 'VESTA.MX', 'VITRO.MX', 'VOLAR.MX', 'WALMEX.MX']\n"
       ]
      }
     ],
     "prompt_number": 127
    },
    {
     "cell_type": "code",
     "collapsed": false,
     "input": [
      "for empresa in empresas:\n",
      "    datos = pd.io.data.get_data_yahoo(empresa, \n",
      "                                     start=datetime.datetime(2006, 10, 1), \n",
      "                                     end=datetime.datetime(2012, 1, 1))\n",
      "    print empresa\n",
      "    print datos.head()"
     ],
     "language": "python",
     "metadata": {},
     "outputs": [
      {
       "output_type": "stream",
       "stream": "stdout",
       "text": [
        "AC.MX\n",
        "             Open   High    Low  Close  Volume  Adj Close\n",
        "Date                                                     \n",
        "2006-11-02  33.03  33.03  33.03  33.03       0      15.62\n",
        "2006-11-20  36.50  36.50  36.50  36.50       0      17.26\n",
        "2006-12-01  36.00  36.00  36.00  36.00       0      17.02\n",
        "2006-12-12  36.85  36.85  36.85  36.85       0      17.43\n",
        "2006-12-25  39.44  39.44  39.44  39.44       0      18.65\n",
        "ACCELSAB.MX"
       ]
      },
      {
       "output_type": "stream",
       "stream": "stdout",
       "text": [
        "\n",
        "            Open  High   Low  Close  Volume  Adj Close\n",
        "Date                                                  \n",
        "2006-10-02  4.30  4.30  4.30   4.30       0       4.30\n",
        "2006-10-03  4.99  4.99  4.99   4.99       0       4.99\n",
        "2006-10-04  4.60  4.60  4.60   4.60       0       4.60\n",
        "2006-10-05  4.60  4.60  4.60   4.60       0       4.60\n",
        "2006-10-06  4.60  4.60  4.60   4.60       0       4.60\n",
        "ACTINVRB.MX"
       ]
      },
      {
       "output_type": "stream",
       "stream": "stdout",
       "text": [
        "\n",
        "             Open   High    Low  Close   Volume  Adj Close\n",
        "Date                                                      \n",
        "2010-05-06  10.96  11.27   9.72  10.75  5244700      10.35\n",
        "2010-05-07  10.75  10.80  10.75  10.77  1054000      10.37\n",
        "2010-05-10  10.80  11.25  10.75  10.90   407900      10.50\n",
        "2010-05-11  10.75  10.90  10.75  10.85   222200      10.45\n",
        "2010-05-12  10.90  11.00  10.75  10.90  1502000      10.50\n",
        "AEROMEX.MX"
       ]
      },
      {
       "output_type": "stream",
       "stream": "stdout",
       "text": [
        "\n",
        "             Open   High    Low  Close  Volume  Adj Close\n",
        "Date                                                     \n",
        "2011-04-29  30.60  30.65  30.30  30.65  677500      30.65\n",
        "2011-05-02  30.30  30.60  30.21  30.30  198000      30.30\n",
        "2011-05-03  30.35  30.45  30.20  30.35  917300      30.35\n",
        "2011-05-04  30.30  30.50  30.00  30.30  553700      30.30\n",
        "2011-05-05  30.12  30.30  29.80  30.12  583100      30.12\n",
        "AHMSA.MX"
       ]
      },
      {
       "output_type": "stream",
       "stream": "stdout",
       "text": [
        "\n",
        "            Open  High   Low  Close  Volume  Adj Close\n",
        "Date                                                  \n",
        "2009-02-23  2.52  2.52  2.52   2.52       0       2.52\n",
        "2009-02-24  2.52  2.52  2.52   2.52       0       2.52\n",
        "2009-02-25  2.52  2.52  2.52   2.52       0       2.52\n",
        "2009-02-26  2.52  2.52  2.52   2.52       0       2.52\n",
        "2009-02-27  2.52  2.52  2.52   2.52       0       2.52\n",
        "ALFAA.MX"
       ]
      },
      {
       "output_type": "stream",
       "stream": "stdout",
       "text": [
        "\n",
        "             Open   High    Low  Close    Volume  Adj Close\n",
        "Date                                                       \n",
        "2006-10-02  59.72  59.72  57.86  58.34   9422000       5.48\n",
        "2006-10-03  58.00  59.20  57.71  58.82  11524000       5.53\n",
        "2006-10-04  58.62  60.45  58.62  60.38  40689000       5.68\n",
        "2006-10-05  60.35  61.45  60.10  60.50  19307000       5.69\n",
        "2006-10-06  60.50  60.74  60.40  60.52  12676000       5.69\n",
        "ALSEA.MX"
       ]
      },
      {
       "output_type": "stream",
       "stream": "stdout",
       "text": [
        "\n",
        "             Open   High    Low  Close  Volume  Adj Close\n",
        "Date                                                     \n",
        "2006-10-02  45.25  46.00  45.11  46.00  197100      10.46\n",
        "2006-10-03  46.00  46.00  45.95  45.98   59100      10.45\n",
        "2006-10-04  46.00  46.22  45.98  46.14  992100      10.49\n",
        "2006-10-05  46.10  47.35  46.09  47.25  661100      10.74\n",
        "2006-10-06  47.25  49.00  47.25  48.60  668100      11.05\n",
        "AMXA.MX"
       ]
      },
      {
       "output_type": "stream",
       "stream": "stdout",
       "text": [
        "\n",
        "             Open   High    Low  Close  Volume  Adj Close\n",
        "Date                                                     \n",
        "2006-10-02  21.60  21.70  21.45  21.45  302200       9.12\n",
        "2006-10-03  21.30  21.30  21.28  21.30  120000       9.06\n",
        "2006-10-04  21.65  21.92  21.65  21.92   44400       9.32\n",
        "2006-10-05  21.98  22.20  21.98  22.20   69600       9.44\n",
        "2006-10-06  22.19  22.45  22.19  22.45  169400       9.54\n",
        "ARA.MX"
       ]
      },
      {
       "output_type": "stream",
       "stream": "stdout",
       "text": [
        "\n",
        "             Open   High    Low  Close   Volume  Adj Close\n",
        "Date                                                      \n",
        "2006-10-02  53.78  54.78  53.70  54.00  5410800      13.17\n",
        "2006-10-03  53.66  54.20  53.50  54.15  2341200      13.20\n",
        "2006-10-04  54.00  54.25  53.74  54.10  1624400      13.19\n",
        "2006-10-05  54.09  54.99  54.09  54.27  6324400      13.23\n",
        "2006-10-06  54.02  55.25  53.99  55.09  8990400      13.43\n",
        "ARISTOSA.MX"
       ]
      },
      {
       "output_type": "stream",
       "stream": "stdout",
       "text": [
        "\n",
        "            Open  High  Low  Close  Volume  Adj Close\n",
        "Date                                                 \n",
        "2009-02-23    25    25   25     25       0      12.35\n",
        "2009-02-24    25    25   25     25       0      12.35\n",
        "2009-02-25    25    25   25     25       0      12.35\n",
        "2009-02-26    25    25   25     25       0      12.35\n",
        "2009-02-27    25    25   25     25       0      12.35\n",
        "ASURB.MX"
       ]
      },
      {
       "output_type": "stream",
       "stream": "stdout",
       "text": [
        "\n",
        "             Open   High    Low  Close  Volume  Adj Close\n",
        "Date                                                     \n",
        "2006-11-02  41.29  41.29  41.29  41.29       0      35.79\n",
        "2006-11-20  45.00  45.00  45.00  45.00       0      39.01\n",
        "2006-12-01  48.48  48.48  48.48  48.48       0      42.02\n",
        "2006-12-12  48.69  48.69  48.69  48.69       0      42.20\n",
        "2006-12-25  46.34  46.34  46.34  46.34       0      40.17\n",
        "AUTLANB.MX"
       ]
      },
      {
       "output_type": "stream",
       "stream": "stdout",
       "text": [
        "\n",
        "            Open  High   Low  Close  Volume  Adj Close\n",
        "Date                                                  \n",
        "2006-10-02  2.44  2.44  2.36   2.36       0       2.16\n",
        "2006-11-02  3.04  3.04  3.04   3.04       0       2.78\n",
        "2006-11-20  3.07  3.07  3.07   3.07       0       2.81\n",
        "2006-12-01  3.04  3.04  3.04   3.04       0       2.78\n",
        "2006-12-12  3.13  3.13  3.13   3.13       0       2.86\n",
        "AXTELCPO.MX"
       ]
      },
      {
       "output_type": "stream",
       "stream": "stdout",
       "text": [
        "\n",
        "             Open   High    Low  Close    Volume  Adj Close\n",
        "Date                                                       \n",
        "2006-10-02  22.80  22.80  22.80  22.80  16729200       7.60\n",
        "2006-10-03  22.80  23.43  22.71  23.19   7329600       7.73\n",
        "2006-10-04  23.31  24.21  23.31  24.21   3266100       8.07\n",
        "2006-10-05  24.30  24.60  24.00  24.15  16639200       8.05\n",
        "2006-10-06  24.00  24.00  23.85  23.91   2232900       7.97\n",
        "AZTECACPO.MX"
       ]
      },
      {
       "output_type": "stream",
       "stream": "stdout",
       "text": [
        "\n",
        "            Open  High   Low  Close  Volume  Adj Close\n",
        "Date                                                  \n",
        "2006-11-02  7.44  7.44  7.44   7.44       0       7.44\n",
        "2006-11-20  7.44  7.44  7.44   7.44       0       7.44\n",
        "2006-12-01  7.28  7.28  7.28   7.28       0       7.28\n",
        "2006-12-12  7.75  7.75  7.75   7.75       0       7.75\n",
        "2006-12-25  7.96  7.96  7.96   7.96       0       7.96\n",
        "BACHOCOB.MX"
       ]
      },
      {
       "output_type": "stream",
       "stream": "stdout",
       "text": [
        "\n",
        "            Open  High  Low  Close  Volume  Adj Close\n",
        "Date                                                 \n",
        "2006-10-02    20    20   20     20       0      17.74\n",
        "2006-10-03    20    20   20     20   66800      17.74\n",
        "2006-10-04    20    20   20     20   33300      17.74\n",
        "2006-10-05    20    20   20     20       0      17.74\n",
        "2006-10-06    20    20   20     20   80000      17.74\n",
        "BAFARB.MX"
       ]
      },
      {
       "output_type": "stream",
       "stream": "stdout",
       "text": [
        "\n",
        "            Open  High    Low  Close   Volume  Adj Close\n",
        "Date                                                    \n",
        "2007-12-24  14.4  14.4  14.40   14.4  6995600      13.58\n",
        "2008-01-03  14.4  14.4  14.40   14.4   138600      13.58\n",
        "2008-01-08  14.4  14.4  14.35   14.4     1700      13.58\n",
        "2008-01-31  14.4  14.4  14.40   14.4     1500      13.58\n",
        "2008-02-01  14.4  14.4  14.40   14.4     1800      13.58\n",
        "BBVA.MX"
       ]
      },
      {
       "output_type": "stream",
       "stream": "stdout",
       "text": [
        "\n",
        "              Open    High     Low   Close  Volume  Adj Close\n",
        "Date                                                         \n",
        "2006-10-02  254.50  254.50  252.61  252.61       0     248.53\n",
        "2006-10-03  254.94  255.55  254.90  255.55    6100     251.42\n",
        "2006-10-04  255.55  259.00  255.55  259.00   14500     254.81\n",
        "2006-10-05  262.93  263.50  260.00  263.50    7300     259.24\n",
        "2006-10-06  263.50  263.50  263.50  263.50    2000     259.24\n",
        "BEVIDESB.MX"
       ]
      },
      {
       "output_type": "stream",
       "stream": "stdout",
       "text": [
        "\n",
        "            Open  High   Low  Close  Volume  Adj Close\n",
        "Date                                                  \n",
        "2006-10-02  4.68  4.68  4.68   4.68       0       4.17\n",
        "2006-10-03  4.68  4.68  4.68   4.68       0       4.17\n",
        "2006-10-04  4.68  4.68  4.68   4.68       0       4.17\n",
        "2006-10-05  4.62  4.62  4.62   4.62       0       4.12\n",
        "2006-10-06  4.68  4.68  4.68   4.68       0       4.17\n",
        "BIMBOA.MX"
       ]
      },
      {
       "output_type": "stream",
       "stream": "stdout",
       "text": [
        "\n",
        "             Open   High    Low  Close   Volume  Adj Close\n",
        "Date                                                      \n",
        "2006-10-02  37.81  37.98  37.20  37.55  3335200       8.76\n",
        "2006-10-03  37.55  37.55  37.30  37.40  1882800       8.72\n",
        "2006-10-04  37.40  38.00  37.35  38.00  2543600       8.86\n",
        "2006-10-05  38.00  38.50  37.99  38.12  2450000       8.89\n",
        "2006-10-06  38.29  38.50  38.00  38.12   746800       8.89\n",
        "BOLSAA.MX"
       ]
      },
      {
       "output_type": "stream",
       "stream": "stdout",
       "text": [
        "\n",
        "             Open   High    Low  Close     Volume  Adj Close\n",
        "Date                                                        \n",
        "2008-06-13  18.20  20.00  16.40  16.49  125989800      13.70\n",
        "2008-06-16  16.50  16.98  16.20  16.36   15919100      13.59\n",
        "2008-06-17  16.40  16.44  15.40  15.51   18128400      12.88\n",
        "2008-06-18  15.60  15.70  15.10  15.54    7887700      12.91\n",
        "2008-06-19  15.52  15.88  15.22  15.54    6927200      12.91\n",
        "C.MX"
       ]
      },
      {
       "output_type": "stream",
       "stream": "stdout",
       "text": [
        "\n",
        "              Open    High     Low   Close  Volume  Adj Close\n",
        "Date                                                         \n",
        "2006-11-23  556.60  556.60  530.00  530.00       0    5294.35\n",
        "2007-11-22  358.90  358.90  345.00  345.00       0    3446.32\n",
        "2007-12-31  315.85  322.27  315.50  322.27     200    3219.27\n",
        "2008-01-02  317.37  317.37  316.47  316.47       0    3161.33\n",
        "2008-01-03  317.00  319.50  315.00  315.00     300    3146.64\n",
        "CABLECPO.MX"
       ]
      },
      {
       "output_type": "stream",
       "stream": "stdout",
       "text": [
        "\n",
        "            Open  High   Low  Close  Volume  Adj Close\n",
        "Date                                                  \n",
        "2006-10-02  14.5  14.5  14.5   14.5       0       14.5\n",
        "2006-10-03  14.5  14.5  14.5   14.5       0       14.5\n",
        "2006-10-04  14.5  14.5  14.5   14.5       0       14.5\n",
        "2006-10-05  16.4  16.4  15.9   15.9       0       15.9\n",
        "2006-10-06  16.1  16.1  16.1   16.1    1500       16.1\n",
        "CEMEXCPO.MX"
       ]
      },
      {
       "output_type": "stream",
       "stream": "stdout",
       "text": [
        "\n",
        "             Open   High    Low  Close    Volume  Adj Close\n",
        "Date                                                       \n",
        "2006-10-02  33.00  33.42  32.68  32.77  20261000      30.57\n",
        "2006-10-03  32.77  33.20  32.60  33.04   7687600      30.82\n",
        "2006-10-04  32.90  33.95  32.90  33.85  14932800      31.58\n",
        "2006-10-05  33.90  34.50  33.90  34.36  21348400      32.05\n",
        "2006-10-06  34.36  34.66  33.90  34.30   7785900      31.99\n",
        "CERAMICB.MX"
       ]
      },
      {
       "output_type": "stream",
       "stream": "stdout",
       "text": [
        "\n",
        "            Open  High  Low  Close  Volume  Adj Close\n",
        "Date                                                 \n",
        "2006-10-02    19    19   19     19   46000      18.37\n",
        "2006-10-03    19    19   19     19       0      18.37\n",
        "2006-10-04    19    19   19     19   50000      18.37\n",
        "2006-10-05    19    19   19     19  103500      18.37\n",
        "2006-10-06    19    19   19     19       0      18.37\n",
        "CHDRAUIB.MX"
       ]
      },
      {
       "output_type": "stream",
       "stream": "stdout",
       "text": [
        "\n",
        "             Open   High    Low  Close   Volume  Adj Close\n",
        "Date                                                      \n",
        "2010-05-03  35.95  35.98  35.21  35.95  3971800      35.30\n",
        "2010-05-04  35.95  35.95  35.20  35.40  2211600      34.76\n",
        "2010-05-05  35.32  35.79  35.01  35.40  2181000      34.76\n",
        "2010-05-06  35.30  35.50  35.00  35.00  7725700      34.37\n",
        "2010-05-07  35.00  35.15  34.52  34.80  6111500      34.17\n",
        "CIDMEGA.MX"
       ]
      },
      {
       "output_type": "stream",
       "stream": "stdout",
       "text": [
        "\n",
        "            Open  High  Low  Close  Volume  Adj Close\n",
        "Date                                                 \n",
        "2006-10-02   9.5   9.5  9.0    9.0       0       8.69\n",
        "2006-10-03   9.0   9.0  9.0    9.0  100000       8.69\n",
        "2006-10-04   9.2   9.2  9.2    9.2     100       8.89\n",
        "2006-10-05   9.4   9.4  9.2    9.2       0       8.89\n",
        "2006-10-06   9.2   9.2  9.2    9.2     300       8.89\n",
        "CIEB.MX"
       ]
      },
      {
       "output_type": "stream",
       "stream": "stdout",
       "text": [
        "\n",
        "             Open   High    Low  Close  Volume  Adj Close\n",
        "Date                                                     \n",
        "2006-10-02  20.00  20.00  19.56  19.56       0      19.56\n",
        "2006-10-06  20.49  20.49  19.72  19.72       0      19.72\n",
        "2006-11-02  24.00  24.00  24.00  24.00       0      24.00\n",
        "2006-11-14  24.00  24.00  23.50  23.50       0      23.50\n",
        "2006-11-16  23.99  23.99  23.50  23.50       0      23.50\n",
        "CMOCTEZ.MX"
       ]
      },
      {
       "output_type": "stream",
       "stream": "stdout",
       "text": [
        "\n",
        "             Open   High    Low  Close  Volume  Adj Close\n",
        "Date                                                     \n",
        "2006-10-02  22.00  22.00  22.00   22.0  900000      16.07\n",
        "2006-10-03  22.49  22.49  22.00   22.0  336300      16.07\n",
        "2006-10-04  22.50  22.50  22.10   22.1   26700      16.14\n",
        "2006-10-05  22.10  22.50  22.10   22.5   18300      16.43\n",
        "2006-10-06  22.48  22.50  22.01   22.5   19100      16.43\n",
        "CMRB.MX"
       ]
      },
      {
       "output_type": "stream",
       "stream": "stdout",
       "text": [
        "\n",
        "            Open  High   Low  Close  Volume  Adj Close\n",
        "Date                                                  \n",
        "2006-10-02  3.35  3.35  3.35   3.35  100000       3.32\n",
        "2006-10-03  3.35  3.35  3.35   3.35  198000       3.32\n",
        "2006-10-04  3.39  3.40  3.39   3.40   26900       3.36\n",
        "2006-10-05  3.45  3.45  3.39   3.45   29400       3.41\n",
        "2006-10-06  3.50  3.50  3.45   3.45       0       3.41\n",
        "COLLADO.MX"
       ]
      },
      {
       "output_type": "stream",
       "stream": "stdout",
       "text": [
        "\n",
        "             Open   High    Low  Close  Volume  Adj Close\n",
        "Date                                                     \n",
        "2007-12-18  18.00  20.70  17.99  20.70   16200      20.70\n",
        "2007-12-19  20.80  20.80  20.80  20.80       0      20.80\n",
        "2007-12-20  20.70  20.70  17.00  17.00       0      17.00\n",
        "2007-12-21  20.70  20.70  16.50  16.50       0      16.50\n",
        "2007-12-24  20.98  20.98  20.98  20.98       0      20.98\n",
        "COMERCIUBC.MX"
       ]
      },
      {
       "output_type": "stream",
       "stream": "stdout",
       "text": [
        "\n",
        "             Open   High    Low  Close   Volume  Adj Close\n",
        "Date                                                      \n",
        "2006-10-02  21.80  21.80  21.00  21.29  2865700      20.74\n",
        "2006-10-03  21.20  21.70  21.20  21.53  1369900      20.97\n",
        "2006-10-04  21.53  22.00  21.30  21.82  2610000      21.25\n",
        "2006-10-05  21.82  22.20  21.82  22.00  4630800      21.43\n",
        "2006-10-06  22.10  22.25  21.96  22.08   827300      21.51\n",
        "CONVERA.MX"
       ]
      },
      {
       "output_type": "stream",
       "stream": "stdout",
       "text": [
        "\n",
        "            Open  High  Low  Close  Volume  Adj Close\n",
        "Date                                                 \n",
        "2006-10-02   5.1   5.1  5.1    5.1       0        5.1\n",
        "2006-10-03   5.1   5.1  5.1    5.1       0        5.1\n",
        "2006-10-05   4.0   4.0  4.0    4.0       0        4.0\n",
        "2006-10-06   4.0   4.0  4.0    4.0       0        4.0\n",
        "2006-10-09   4.0   4.0  4.0    4.0       0        4.0\n",
        "CULTIBAB.MX"
       ]
      },
      {
       "output_type": "stream",
       "stream": "stdout",
       "text": [
        "\n",
        "            Open  High   Low  Close  Volume  Adj Close\n",
        "Date                                                  \n",
        "2006-10-02  66.0  66.0  66.0   66.0       0      10.26\n",
        "2006-10-03  66.0  66.0  66.0   66.0       0      10.26\n",
        "2006-10-04  66.0  66.0  66.0   66.0       0      10.26\n",
        "2006-10-05  74.9  74.9  74.9   74.9   42000      11.64\n",
        "2006-10-06  74.9  74.9  66.0   66.0       0      10.26\n",
        "CYDSASAA.MX"
       ]
      },
      {
       "output_type": "stream",
       "stream": "stdout",
       "text": [
        "\n",
        "            Open  High   Low  Close  Volume  Adj Close\n",
        "Date                                                  \n",
        "2006-10-02  3.62  3.62  3.62   3.62     200       0.87\n",
        "2006-10-03  3.65  3.65  3.60   3.60  263900       0.86\n",
        "2006-10-04  3.56  3.56  3.56   3.56   28500       0.85\n",
        "2006-10-05  3.80  3.80  3.51   3.51       0       0.84\n",
        "2006-10-06  3.79  3.79  3.51   3.51       0       0.84\n",
        "DINEB.MX"
       ]
      },
      {
       "output_type": "stream",
       "stream": "stdout",
       "text": [
        "\n",
        "            Open  High   Low  Close   Volume  Adj Close\n",
        "Date                                                   \n",
        "2006-10-02  9.34  9.34  9.34   9.34      200       9.34\n",
        "2006-10-03  9.35  9.42  9.35   9.40   477800       9.40\n",
        "2006-10-04  9.40  9.69  9.40   9.65  1382900       9.65\n",
        "2006-10-05  9.64  9.99  9.50   9.95  3208900       9.95\n",
        "2006-10-06  9.85  9.94  9.85   9.90  1038200       9.90\n",
        "EDOARDOB.MX"
       ]
      },
      {
       "output_type": "stream",
       "stream": "stdout",
       "text": [
        "\n",
        "            Open  High   Low  Close  Volume  Adj Close\n",
        "Date                                                  \n",
        "2006-10-02  0.52  0.52  0.52   0.52       0       0.52\n",
        "2006-10-03  0.52  0.52  0.52   0.52       0       0.52\n",
        "2006-10-04  0.52  0.52  0.40   0.40       0       0.40\n",
        "2006-10-05  0.52  0.52  0.52   0.52       0       0.52\n",
        "2006-10-06  0.52  0.52  0.52   0.52       0       0.52\n",
        "ELEKTRA.MX"
       ]
      },
      {
       "output_type": "stream",
       "stream": "stdout",
       "text": [
        "\n",
        "              Open   High     Low   Close  Volume  Adj Close\n",
        "Date                                                        \n",
        "2006-10-02  105.71  106.3  105.71  105.94  118800     103.72\n",
        "2006-10-03  106.50  106.5  106.01  106.12   48000     103.90\n",
        "2006-10-04  106.00  106.5  106.00  106.29   56400     104.06\n",
        "2006-10-05  106.29  107.5  106.29  106.51   43700     104.28\n",
        "2006-10-06  106.51  107.1  106.20  106.35    5800     104.12\n",
        "FEMSAUBD.MX"
       ]
      },
      {
       "output_type": "stream",
       "stream": "stdout",
       "text": [
        "\n",
        "              Open    High     Low   Close   Volume  Adj Close\n",
        "Date                                                          \n",
        "2006-10-02  106.55  107.23  105.53  105.84  2306100      32.80\n",
        "2006-10-03  105.28  106.32  105.00  105.85  1808700      32.80\n",
        "2006-10-04  105.85  109.32  105.80  109.04  1678800      33.79\n",
        "2006-10-05  109.00  110.47  108.80  110.23  2138700      34.16\n",
        "2006-10-06  109.68  109.68  108.20  109.00  1694400      33.78\n",
        "FINAMEXO.MX"
       ]
      },
      {
       "output_type": "stream",
       "stream": "stdout",
       "text": [
        "\n",
        "            Open  High   Low  Close  Volume  Adj Close\n",
        "Date                                                  \n",
        "2006-10-02  5.01  5.01  5.01   5.01       0       2.02\n",
        "2006-10-03  5.01  5.01  5.01   5.01       0       2.02\n",
        "2006-10-04  5.01  5.01  5.01   5.01       0       2.02\n",
        "2006-10-05  5.01  5.01  5.01   5.01       0       2.02\n",
        "2006-10-06  5.01  5.01  5.01   5.01       0       2.02\n",
        "FINDEP.MX"
       ]
      },
      {
       "output_type": "stream",
       "stream": "stdout",
       "text": [
        "\n",
        "             Open   High    Low  Close    Volume  Adj Close\n",
        "Date                                                       \n",
        "2007-11-01  24.05  25.10  24.00  24.13  36912300      21.94\n",
        "2007-11-05  24.00  24.05  23.70  23.95   9164000      21.77\n",
        "2007-11-06  24.01  24.40  23.85  23.93   4123200      21.75\n",
        "2007-11-07  23.90  23.90  22.79  22.99   2209700      20.90\n",
        "2007-11-08  23.60  23.70  21.00  22.00   5732300      20.00\n",
        "FRAGUAB.MX"
       ]
      },
      {
       "output_type": "stream",
       "stream": "stdout",
       "text": [
        "\n",
        "             Open   High    Low  Close  Volume  Adj Close\n",
        "Date                                                     \n",
        "2006-10-02  64.00  64.00  60.00  60.00       0      58.11\n",
        "2006-10-03  64.00  64.00  60.00  60.00       0      58.11\n",
        "2006-10-11  63.05  63.05  63.05  63.05       0      61.07\n",
        "2006-10-23  71.00  71.00  62.00  62.00       0      60.05\n",
        "2006-10-26  74.00  74.00  69.00  69.00       0      66.83\n",
        "FRES.MX"
       ]
      },
      {
       "output_type": "stream",
       "stream": "stdout",
       "text": [
        "\n",
        "              Open    High     Low   Close  Volume  Adj Close\n",
        "Date                                                         \n",
        "2008-05-14  111.90  111.90  111.90  111.90    1000     110.83\n",
        "2008-05-15  111.90  111.90  111.90  111.90       0     110.83\n",
        "2008-05-16  111.90  111.90  111.90  111.90       0     110.83\n",
        "2008-05-19  110.25  110.25  110.25  110.25       0     109.20\n",
        "2008-05-20  113.00  113.00  113.00  113.00       0     111.92\n",
        "GAPB.MX"
       ]
      },
      {
       "output_type": "stream",
       "stream": "stdout",
       "text": [
        "\n",
        "             Open   High    Low  Close  Volume  Adj Close\n",
        "Date                                                     \n",
        "2006-10-02  37.45  38.32  37.13  37.39  495600      25.77\n",
        "2006-10-03  37.05  37.35  37.05  37.12   76000      25.59\n",
        "2006-10-04  37.15  37.82  37.15  37.74  240200      26.02\n",
        "2006-10-05  37.98  38.53  37.98  38.39  408700      26.46\n",
        "2006-10-06  37.91  38.33  37.10  37.65  152300      25.95\n"
       ]
      },
      {
       "ename": "IOError",
       "evalue": "after 3 tries, Yahoo! did not return a 200 for url 'http://ichart.finance.yahoo.com/table.csv?s=GBM.MX&a=9&b=1&c=2006&d=0&e=1&f=2012&g=d&ignore=.csv'",
       "output_type": "pyerr",
       "traceback": [
        "\u001b[1;31m---------------------------------------------------------------------------\u001b[0m\n\u001b[1;31mIOError\u001b[0m                                   Traceback (most recent call last)",
        "\u001b[1;32m<ipython-input-128-5019617d03a6>\u001b[0m in \u001b[0;36m<module>\u001b[1;34m()\u001b[0m\n\u001b[0;32m      2\u001b[0m     datos = pd.io.data.get_data_yahoo(empresa, \n\u001b[0;32m      3\u001b[0m                                      \u001b[0mstart\u001b[0m\u001b[1;33m=\u001b[0m\u001b[0mdatetime\u001b[0m\u001b[1;33m.\u001b[0m\u001b[0mdatetime\u001b[0m\u001b[1;33m(\u001b[0m\u001b[1;36m2006\u001b[0m\u001b[1;33m,\u001b[0m \u001b[1;36m10\u001b[0m\u001b[1;33m,\u001b[0m \u001b[1;36m1\u001b[0m\u001b[1;33m)\u001b[0m\u001b[1;33m,\u001b[0m\u001b[1;33m\u001b[0m\u001b[0m\n\u001b[1;32m----> 4\u001b[1;33m                                      end=datetime.datetime(2012, 1, 1))\n\u001b[0m\u001b[0;32m      5\u001b[0m     \u001b[1;32mprint\u001b[0m \u001b[0mempresa\u001b[0m\u001b[1;33m\u001b[0m\u001b[0m\n\u001b[0;32m      6\u001b[0m     \u001b[1;32mprint\u001b[0m \u001b[0mdatos\u001b[0m\u001b[1;33m.\u001b[0m\u001b[0mhead\u001b[0m\u001b[1;33m(\u001b[0m\u001b[1;33m)\u001b[0m\u001b[1;33m\u001b[0m\u001b[0m\n",
        "\u001b[1;32m/home/sabik/anaconda/lib/python2.7/site-packages/pandas/io/data.pyc\u001b[0m in \u001b[0;36mget_data_yahoo\u001b[1;34m(symbols, start, end, retry_count, pause, adjust_price, ret_index, chunksize)\u001b[0m\n\u001b[0;32m    400\u001b[0m     \"\"\"\n\u001b[0;32m    401\u001b[0m     return _get_data_from(symbols, start, end, retry_count, pause,\n\u001b[1;32m--> 402\u001b[1;33m                           adjust_price, ret_index, chunksize, 'yahoo')\n\u001b[0m\u001b[0;32m    403\u001b[0m \u001b[1;33m\u001b[0m\u001b[0m\n\u001b[0;32m    404\u001b[0m \u001b[1;33m\u001b[0m\u001b[0m\n",
        "\u001b[1;32m/home/sabik/anaconda/lib/python2.7/site-packages/pandas/io/data.pyc\u001b[0m in \u001b[0;36m_get_data_from\u001b[1;34m(symbols, start, end, retry_count, pause, adjust_price, ret_index, chunksize, source)\u001b[0m\n\u001b[0;32m    346\u001b[0m     \u001b[1;31m# If a single symbol, (e.g., 'GOOG')\u001b[0m\u001b[1;33m\u001b[0m\u001b[1;33m\u001b[0m\u001b[0m\n\u001b[0;32m    347\u001b[0m     \u001b[1;32mif\u001b[0m \u001b[0misinstance\u001b[0m\u001b[1;33m(\u001b[0m\u001b[0msymbols\u001b[0m\u001b[1;33m,\u001b[0m \u001b[1;33m(\u001b[0m\u001b[0mcompat\u001b[0m\u001b[1;33m.\u001b[0m\u001b[0mstring_types\u001b[0m\u001b[1;33m,\u001b[0m \u001b[0mint\u001b[0m\u001b[1;33m)\u001b[0m\u001b[1;33m)\u001b[0m\u001b[1;33m:\u001b[0m\u001b[1;33m\u001b[0m\u001b[0m\n\u001b[1;32m--> 348\u001b[1;33m         \u001b[0mhist_data\u001b[0m \u001b[1;33m=\u001b[0m \u001b[0msrc_fn\u001b[0m\u001b[1;33m(\u001b[0m\u001b[0msymbols\u001b[0m\u001b[1;33m,\u001b[0m \u001b[0mstart\u001b[0m\u001b[1;33m,\u001b[0m \u001b[0mend\u001b[0m\u001b[1;33m,\u001b[0m \u001b[0mretry_count\u001b[0m\u001b[1;33m,\u001b[0m \u001b[0mpause\u001b[0m\u001b[1;33m)\u001b[0m\u001b[1;33m\u001b[0m\u001b[0m\n\u001b[0m\u001b[0;32m    349\u001b[0m     \u001b[1;31m# Or multiple symbols, (e.g., ['GOOG', 'AAPL', 'MSFT'])\u001b[0m\u001b[1;33m\u001b[0m\u001b[1;33m\u001b[0m\u001b[0m\n\u001b[0;32m    350\u001b[0m     \u001b[1;32melif\u001b[0m \u001b[0misinstance\u001b[0m\u001b[1;33m(\u001b[0m\u001b[0msymbols\u001b[0m\u001b[1;33m,\u001b[0m \u001b[0mDataFrame\u001b[0m\u001b[1;33m)\u001b[0m\u001b[1;33m:\u001b[0m\u001b[1;33m\u001b[0m\u001b[0m\n",
        "\u001b[1;32m/home/sabik/anaconda/lib/python2.7/site-packages/pandas/io/data.pyc\u001b[0m in \u001b[0;36m_get_hist_yahoo\u001b[1;34m(sym, start, end, retry_count, pause)\u001b[0m\n\u001b[0;32m    199\u001b[0m            \u001b[1;34m'&g=d'\u001b[0m \u001b[1;33m+\u001b[0m\u001b[1;33m\u001b[0m\u001b[0m\n\u001b[0;32m    200\u001b[0m            '&ignore=.csv')\n\u001b[1;32m--> 201\u001b[1;33m     \u001b[1;32mreturn\u001b[0m \u001b[0m_retry_read_url\u001b[0m\u001b[1;33m(\u001b[0m\u001b[0murl\u001b[0m\u001b[1;33m,\u001b[0m \u001b[0mretry_count\u001b[0m\u001b[1;33m,\u001b[0m \u001b[0mpause\u001b[0m\u001b[1;33m,\u001b[0m \u001b[1;34m'Yahoo!'\u001b[0m\u001b[1;33m)\u001b[0m\u001b[1;33m\u001b[0m\u001b[0m\n\u001b[0m\u001b[0;32m    202\u001b[0m \u001b[1;33m\u001b[0m\u001b[0m\n\u001b[0;32m    203\u001b[0m \u001b[1;33m\u001b[0m\u001b[0m\n",
        "\u001b[1;32m/home/sabik/anaconda/lib/python2.7/site-packages/pandas/io/data.pyc\u001b[0m in \u001b[0;36m_retry_read_url\u001b[1;34m(url, retry_count, pause, name)\u001b[0m\n\u001b[0;32m    176\u001b[0m \u001b[1;33m\u001b[0m\u001b[0m\n\u001b[0;32m    177\u001b[0m     raise IOError(\"after %d tries, %s did not \"\n\u001b[1;32m--> 178\u001b[1;33m                   \"return a 200 for url %r\" % (retry_count, name, url))\n\u001b[0m\u001b[0;32m    179\u001b[0m \u001b[1;33m\u001b[0m\u001b[0m\n\u001b[0;32m    180\u001b[0m \u001b[1;33m\u001b[0m\u001b[0m\n",
        "\u001b[1;31mIOError\u001b[0m: after 3 tries, Yahoo! did not return a 200 for url 'http://ichart.finance.yahoo.com/table.csv?s=GBM.MX&a=9&b=1&c=2006&d=0&e=1&f=2012&g=d&ignore=.csv'"
       ]
      }
     ],
     "prompt_number": 128
    },
    {
     "cell_type": "code",
     "collapsed": false,
     "input": [],
     "language": "python",
     "metadata": {},
     "outputs": []
    },
    {
     "cell_type": "code",
     "collapsed": false,
     "input": [],
     "language": "python",
     "metadata": {},
     "outputs": []
    }
   ],
   "metadata": {}
  }
 ]
}