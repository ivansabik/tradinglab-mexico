{
 "metadata": {
  "name": "",
  "signature": "sha256:476c7d4a8b6ba855c7760dd7fc4d320e046470611baeed85e339cee0ea13f14f"
 },
 "nbformat": 3,
 "nbformat_minor": 0,
 "worksheets": [
  {
   "cells": [
    {
     "cell_type": "code",
     "collapsed": false,
     "input": [
      "import pandas as pd\n",
      "import pandas.io.data\n",
      "import numpy as np\n",
      "\n",
      "import pytz\n",
      "from datetime import datetime\n",
      "\n",
      "import zipline as zp\n",
      "\n",
      "from zipline.finance.slippage import FixedSlippage\n",
      "\n",
      "import matplotlib.pyplot as plt\n",
      "import matplotlib as mpl\n",
      "\n",
      "mpl.rc('figure', figsize=(8, 7))\n",
      "\n",
      "start = datetime(1990, 1, 1, 0, 0, 0, 0, pytz.utc)\n",
      "end = datetime(2002, 1, 1, 0, 0, 0, 0, pytz.utc)\n",
      "data = zp.utils.factory.load_from_yahoo(stocks=['ELEKTRA.MX'], indexes={}, start=start,\n",
      "                                        end=end, adjusted=False)\n",
      "data.plot()\n",
      "plt.show()"
     ],
     "language": "python",
     "metadata": {},
     "outputs": []
    },
    {
     "cell_type": "code",
     "collapsed": false,
     "input": [],
     "language": "python",
     "metadata": {},
     "outputs": [],
     "prompt_number": 4
    },
    {
     "cell_type": "code",
     "collapsed": false,
     "input": [],
     "language": "python",
     "metadata": {},
     "outputs": []
    }
   ],
   "metadata": {}
  }
 ]
}