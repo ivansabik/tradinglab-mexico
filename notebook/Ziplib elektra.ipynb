{
 "metadata": {
  "name": "",
  "signature": "sha256:f6d078ed0356e5a91ec26951996dfbb7bd534a3d67ff95efe4b662da6862b020"
 },
 "nbformat": 3,
 "nbformat_minor": 0,
 "worksheets": [
  {
   "cells": [
    {
     "cell_type": "code",
     "collapsed": false,
     "input": [
      "import pandas as pd\n",
      "import pandas.io.data\n",
      "import numpy as np\n",
      "\n",
      "import pytz\n",
      "from datetime import datetime\n",
      "\n",
      "import zipline as zp\n",
      "\n",
      "from zipline.finance.slippage import FixedSlippage\n",
      "\n",
      "import matplotlib.pyplot as plt\n",
      "import matplotlib as mpl\n",
      "\n",
      "mpl.rc('figure', figsize=(8, 7))\n",
      "\n",
      "start = datetime(1990, 1, 1, 0, 0, 0, 0, pytz.utc)\n",
      "end = datetime(2002, 1, 1, 0, 0, 0, 0, pytz.utc)\n",
      "data = zp.utils.factory.load_from_yahoo(stocks=['ELEKTRA.MX'], indexes={}, start=start,\n",
      "                                        end=end, adjusted=False)\n",
      "data.plot()\n",
      "plt.show()"
     ],
     "language": "python",
     "metadata": {},
     "outputs": [
      {
       "output_type": "stream",
       "stream": "stdout",
       "text": [
        "ELEKTRA.MX\n"
       ]
      }
     ],
     "prompt_number": 4
    },
    {
     "cell_type": "code",
     "collapsed": false,
     "input": [],
     "language": "python",
     "metadata": {},
     "outputs": [],
     "prompt_number": 3
    },
    {
     "cell_type": "code",
     "collapsed": false,
     "input": [],
     "language": "python",
     "metadata": {},
     "outputs": []
    }
   ],
   "metadata": {}
  }
 ]
}